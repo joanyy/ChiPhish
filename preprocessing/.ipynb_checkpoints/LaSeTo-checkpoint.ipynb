{
 "cells": [
  {
   "cell_type": "markdown",
   "id": "ffff88ee",
   "metadata": {},
   "source": [
    "# a function to judge the language of websites"
   ]
  },
  {
   "cell_type": "code",
   "execution_count": 1,
   "id": "c0720488",
   "metadata": {},
   "outputs": [],
   "source": [
    "from IPython.core.interactiveshell import InteractiveShell\n",
    "InteractiveShell.ast_node_interactivity='all'\n",
    "from bs4 import BeautifulSoup\n",
    "import pandas as pd\n",
    "import json \n",
    "import os\n",
    "import cld3"
   ]
  },
  {
   "cell_type": "code",
   "execution_count": 2,
   "id": "608a1b03",
   "metadata": {},
   "outputs": [],
   "source": [
    "\n",
    "def read_json(json_file):\n",
    "    json_f=open(json_file).read() \n",
    "    json_info=json.loads(json_f)\n",
    "    json_data=pd.json_normalize(json_info)\n",
    "    return json_data\n",
    "def laseto(HTML):\n",
    "    ''' check the language of the webpage'''\n",
    "    soup = BeautifulSoup(HTML,\"html.parser\") \n",
    "    ht=soup.find('html') \n",
    "    try:    \n",
    "        if ht['lang'] is not None:\n",
    "            lan=ht['lang']\n",
    "            print('language is',lan)\n",
    "    except:\n",
    "        if soup.find('title') :\n",
    "            #print('title is',soup.find('title'))\n",
    "            te=soup.find('title').contents\n",
    "            if len(te)!=0:\n",
    "                te=str(te[0])\n",
    "                #print('te 0 is',te)\n",
    "                resp=cld3.get_language(te)\n",
    "                lan=resp[0]\n",
    "                print('language is',lan)\n",
    "            else:\n",
    "                print('cannot judge language')\n",
    "                lan='None'\n",
    "        else:\n",
    "            print('cannot judge language')\n",
    "            lan='None'\n",
    "    return lan\n",
    "\n",
    "\n",
    "def readHtmlFile(page_id):\n",
    "     \n",
    "    path=\"../data/engphish/\"+page_id+\".html\"\n",
    "#     print('path is',path) \n",
    "    try:\n",
    "        with open(path) as f: # encoding='gbk'gb2312\n",
    "            HTML=f.read()\n",
    "            print('html success',page_id)\n",
    "    except:  \n",
    "        try:\n",
    "            with open(path,encoding='gbk') as f: # encoding='gbk'gb2312\n",
    "                HTML=f.read()\n",
    "                print('html success',page_id)\n",
    "        except:\n",
    "            try:\n",
    "                with open(path,encoding='gb2312') as f: # encoding='gbk'gb2312\n",
    "                    HTML=f.read()\n",
    "                    print('html success',page_id)\n",
    "            except:\n",
    "                print('no this file',page_id)\n",
    "                return 'default'     \n",
    "       # return \"default\"\n",
    "#     print('html',HTML)\n",
    "    return HTML            \n"
   ]
  },
  {
   "cell_type": "code",
   "execution_count": 3,
   "id": "a0bd8554",
   "metadata": {},
   "outputs": [
    {
     "name": "stdout",
     "output_type": "stream",
     "text": [
      "html success 15545803978796325\n",
      "language is en\n",
      "features {'id': '15545803978796325', 'url': 'http://escortau.com/facebook/', 'language': 'en', 'label': 1}\n"
     ]
    }
   ],
   "source": [
    "## get the language of the dataset\n",
    "engphish=read_json(\"../data/engphish/engphish_total.json\")\n",
    "for i in range(0,1):\n",
    "    info=engphish.iloc[i]\n",
    "    pid=info['id']\n",
    "    html=readHtmlFile(pid)\n",
    "    lan=laseto(html)\n",
    "    features={}\n",
    "    features['id']=info['id']\n",
    "    features['url']=info['url']\n",
    "    features['language']=lan\n",
    "    features['label']=int(info['label'])\n",
    "    print('features',features)\n",
    "    with open(\"data/engphish/engphish_lan.json\",'a') as out:\n",
    "        out.write('\\n')\n",
    "        out.write(json.dumps(features))\n",
    "        out.write(',') \n",
    "        print('i write success:',i)  \n",
    "    \n",
    "    "
   ]
  }
 ],
 "metadata": {
  "kernelspec": {
   "display_name": "Python 3 (ipykernel)",
   "language": "python",
   "name": "python3"
  },
  "language_info": {
   "codemirror_mode": {
    "name": "ipython",
    "version": 3
   },
   "file_extension": ".py",
   "mimetype": "text/x-python",
   "name": "python",
   "nbconvert_exporter": "python",
   "pygments_lexer": "ipython3",
   "version": "3.9.12"
  }
 },
 "nbformat": 4,
 "nbformat_minor": 5
}
