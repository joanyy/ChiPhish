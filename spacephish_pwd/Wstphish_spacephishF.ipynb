{
 "cells": [
  {
   "cell_type": "code",
   "execution_count": 1,
   "id": "222a76b1",
   "metadata": {},
   "outputs": [],
   "source": [
    "\n",
    "import nbimporter\n",
    "import os\n",
    "os.environ[\"CUDA_VISIBLE_DEVICES\"] = \"-1\"\n",
    "from IPython.core.interactiveshell import InteractiveShell\n",
    "InteractiveShell.ast_node_interactivity='all'\n",
    "import tensorflow as tf \n",
    "import json\n",
    "import pandas as pd\n",
    "from sklearn.model_selection import train_test_split\n",
    "from sklearn import preprocessing\n",
    "import joblib\n",
    "import numpy as np\n",
    "from sklearn.linear_model import LogisticRegression\n",
    "from sklearn.ensemble import RandomForestClassifier\n",
    "import time\n",
    "from sklearn.metrics import confusion_matrix\n",
    "from utils import *\n"
   ]
  },
  {
   "cell_type": "code",
   "execution_count": 2,
   "id": "3ae6ca2b",
   "metadata": {},
   "outputs": [
    {
     "data": {
      "text/plain": [
       "1    6935\n",
       "0    4269\n",
       "Name: label, dtype: int64"
      ]
     },
     "execution_count": 2,
     "metadata": {},
     "output_type": "execute_result"
    },
    {
     "name": "stdout",
     "output_type": "stream",
     "text": [
      "data_ch (11204, 59)\n"
     ]
    }
   ],
   "source": [
    "\n",
    "wst_feature='../data/wstphish/western_end_features_zenodo_modify.json' \n",
    "wst_data=load_dataset(wst_feature)\n",
    "# \n",
    "wst_data['label'].value_counts()\n",
    "data_wst=wst_data.iloc[:,:60]#include 'label', 'index', \n",
    "data_wst=data_wst.astype(float)\n",
    "data_wst.drop(['REP_SearchEngine'],axis=1,inplace=True)\n",
    " \n",
    "# data_wst.columns\n",
    "print('data_ch',data_wst.shape)  "
   ]
  },
  {
   "cell_type": "markdown",
   "id": "4e540a02",
   "metadata": {},
   "source": [
    "# performance of vanilla PWD of spacephish on WstPhish, refer to Table XV,  XVI and XVII\n"
   ]
  },
  {
   "cell_type": "code",
   "execution_count": 96,
   "id": "daa2d383",
   "metadata": {},
   "outputs": [
    {
     "name": "stdout",
     "output_type": "stream",
     "text": [
      "train_ze shape (8963, 59)\n"
     ]
    },
    {
     "data": {
      "text/plain": [
       "MinMaxScaler()"
      ]
     },
     "execution_count": 96,
     "metadata": {},
     "output_type": "execute_result"
    },
    {
     "data": {
      "text/plain": [
       "MinMaxScaler()"
      ]
     },
     "execution_count": 96,
     "metadata": {},
     "output_type": "execute_result"
    },
    {
     "data": {
      "text/plain": [
       "MinMaxScaler()"
      ]
     },
     "execution_count": 96,
     "metadata": {},
     "output_type": "execute_result"
    },
    {
     "name": "stdout",
     "output_type": "stream",
     "text": [
      "combine_rf_whole:\n",
      "recall is 0.98,tnr is 0.97\n",
      "only_url_rf_test:\n",
      "recall is 0.98,tnr is 0.96\n",
      "only_html_rf_test:\n",
      "recall is 0.94,tnr is 0.91\n",
      "==============lr com\n",
      "combine lr whole:\n",
      "recall is 0.95,tnr is 0.94\n",
      "only_url_lr_whole_test:\n",
      "recall is 0.95,tnr is 0.94\n",
      "only_html_lr_whole_test:\n",
      "recall is 0.87,tnr is 0.64\n",
      "cnn_com:\n",
      "recall is 1.00, tnr is 0.98\n",
      "cnn_url:\n",
      "recall is 0.98, tnr is 0.97\n",
      "cnn_html:\n",
      "recall is 0.95, tnr is 0.91\n"
     ]
    }
   ],
   "source": [
    "\n",
    "# WstPhish PWD, top cell on the left side\n",
    "\n",
    "train_wst,test_wst=train_test_split(data_wst,test_size=0.2,shuffle=True)\n",
    "# print('train_ze shape',train_wst.shape)\n",
    "train_wst_x=train_wst.iloc[:,0:57]\n",
    "train_wst_y=train_wst.iloc[:,57] \n",
    "test_wst_x=test_wst.iloc[:,0:57] \n",
    "test_wst_y=test_wst.iloc[:,57] \n",
    "\n",
    "scaler_entire_wst=preprocessing.MinMaxScaler()\n",
    "scaler_entire_wst.fit(train_wst_x)\n",
    "train_x_wst=scaler_entire_wst.transform(train_wst_x)\n",
    "test_x_wst=scaler_entire_wst.transform(test_wst_x)\n",
    "\n",
    "#use only html features\n",
    "scaler_html_wst=preprocessing.MinMaxScaler()\n",
    "scaler_html_wst.fit(train_wst.iloc[:,27:49])\n",
    "train_html_x_wst=scaler_html_wst.transform(train_wst.iloc[:,27:49])\n",
    "test_html_x_wst=scaler_html_wst.transform(test_wst.iloc[:,27:49])\n",
    "#only url features\n",
    "scaler_url_wst=preprocessing.MinMaxScaler()\n",
    "scaler_url_wst.fit(pd.concat([train_wst.iloc[:,0:27],train_wst.iloc[:,49:57]],axis=1))\n",
    "train_url_x_wst=scaler_url_wst.transform(pd.concat([train_wst.iloc[:,0:27],train_wst.iloc[:,49:57]],axis=1)) \n",
    "test_url_x_wst=scaler_url_wst.transform(pd.concat([test_wst.iloc[:,0:27],test_wst.iloc[:,49:57]],axis=1))\n",
    "test_url_y_wst=test_html_y_wst=test_wst_y\n",
    "train_url_y_wst=train_html_y_wst=train_wst_y\n",
    "\n",
    " \n",
    "\n",
    "pre_html_x_wst=test_wst.iloc[:,27:49]\n",
    "pre_html_y_wst=pre_url_y_wst=pre_y_wst=test_wst.iloc[:,57]\n",
    "pre_url_x_wst=pd.concat([test_wst.iloc[:,0:27],test_wst.iloc[:,49:57]],axis=1)\n",
    "pre_x_wst=test_wst.iloc[:,0:57]\n",
    "pre_x_wst=scaler_entire_wst.transform(pre_x_wst)\n",
    "pre_url_x_wst=scaler_url_wst.transform(pre_url_x_wst)\n",
    "pre_html_x_wst=scaler_html_wst.transform(pre_html_x_wst)\n",
    "\n",
    "# for cnn\n",
    "one_hot_train_y_wst=tf.one_hot(indices=train_wst_y.array,depth=2,on_value=1.0,off_value=0.0)\n",
    "one_hot_pre_y_wst=tf.one_hot(indices=pre_y_wst.array,depth=2,on_value=1.0,off_value=0.0)\n",
    "pre_x_re_wst=np.asarray(pre_x_wst).reshape(pre_x_wst.shape[0],pre_x_wst.shape[1],1)\n",
    "pre_html_x_re_wst=np.asarray(pre_html_x_wst).reshape(pre_html_x_wst.shape[0],pre_html_x_wst.shape[1],1)\n",
    "pre_url_x_re_wst=np.asarray(pre_url_x_wst).reshape(pre_url_x_wst.shape[0],pre_url_x_wst.shape[1],1)\n",
    "\n",
    "train_x_re_wst=np.asarray(train_x_wst).reshape(train_x_wst.shape[0],train_x_wst.shape[1],1)\n",
    "\n",
    "train_html_x_re_wst=np.asarray(train_html_x_wst).reshape(train_html_x_wst.shape[0],train_html_x_wst.shape[1],1)\n",
    "train_url_x_re_wst=np.asarray(train_url_x_wst).reshape(train_url_x_wst.shape[0],train_url_x_wst.shape[1],1)\n",
    "#whole dataset\n",
    "\n",
    "model_rf_wst_com=RandomForestClassifier(criterion='gini', max_depth=55, min_samples_split=3, n_estimators=200,random_state=10)\n",
    "model_rf_wst_url=RandomForestClassifier(criterion='gini', max_depth=50, min_samples_split=3, n_estimators=120,random_state=22)\n",
    "model_rf_wst_html=RandomForestClassifier(criterion='entropy', max_depth=50, min_samples_split=3, n_estimators=160,random_state=86)\n",
    "print('combine_rf_whole:')\n",
    "model_rf_com,rf_tnr_com,rf_recall_com,rf_time_com,rf_f1_com=full_metri(model_rf_wst_com,train_x_wst,train_wst_y,test_x_wst,test_wst_y)#using normalized data to train, so all the model_rf4_com data must normalized\n",
    " \n",
    "\n",
    "print('only_url_rf_test:')\n",
    "#only url\n",
    "model_rf_url,rf_tnr_url,rf_recall_url,rf_time_url,rf_f1_url=full_metri(model_rf_wst_url,train_url_x_wst,train_url_y_wst,test_url_x_wst,test_url_y_wst)\n",
    "#only html\n",
    "print('only_html_rf_test:')\n",
    "model_rf_html,rf_tnr_html,rf_recall_html,rf_time_html,rf_f1_html=full_metri(model_rf_wst_html,train_html_x_wst,train_html_y_wst,test_html_x_wst,test_html_y_wst)\n",
    "\n",
    "print('==============lr com')\n",
    "model_lr_wst_com = LogisticRegression(max_iter=500,penalty='l2',C=10,random_state=54)\n",
    "model_lr_wst_url = LogisticRegression(max_iter=500,penalty='l2',C=100,random_state=65)\n",
    "model_lr_wst_html = LogisticRegression(max_iter=500,penalty='l2',C=0.01,random_state=30)\n",
    "print('combine lr whole:')\n",
    "model_lr_com,lr_tnr_com,lr_recall_com,lr_time_com,lr_f1_com=full_metri(model_lr_wst_com,train_x_wst,train_wst_y,test_x_wst,test_wst_y)\n",
    "\n",
    "print('only_url_lr_whole_test:')\n",
    "model_lr_url,lr_tnr_url,lr_recall_url,lr_time_url,lr_f1_url=full_metri(model_lr_wst_url,train_url_x_wst,train_url_y_wst,test_url_x_wst,test_url_y_wst)\n",
    "\n",
    "print('only_html_lr_whole_test:')\n",
    "model_lr_html,lr_tnr_html,lr_recall_html,lr_time_html,lr_f1_html=full_metri(model_lr_wst_html,train_html_x_wst,train_html_y_wst,test_html_x_wst,test_html_y_wst)\n",
    "\n",
    " \n",
    "model_cnn_com=tf.keras.models.load_model('../../wst_model_westf/model_cnn_combined_0',compile=False)\n",
    "\n",
    "model_cnn_com.compile(loss = 'categorical_crossentropy',\n",
    "      optimizer = \"adam\",               \n",
    "            metrics = [tf.keras.metrics.CategoricalAccuracy()])\n",
    "\n",
    "model_cnn_url=tf.keras.models.load_model('../../wst_model_westf/model_cnn_url_1',compile=False)\n",
    "model_cnn_url.compile(loss = 'categorical_crossentropy', \n",
    "  optimizer =\"adam\", #\"\",#opt,adam               \n",
    "            metrics = [tf.keras.metrics.CategoricalAccuracy()]) \n",
    "\n",
    "model_cnn_html=tf.keras.models.load_model('../../wst_model_westf/model_cnn_html_0',compile=False)\n",
    "model_cnn_html.compile(loss = 'categorical_crossentropy', \n",
    "  optimizer =\"adam\",               \n",
    "            metrics = [tf.keras.metrics.CategoricalAccuracy()]) \n",
    "\n",
    "\n",
    "print('cnn_com:')\n",
    "cnn_tnr_com,cnn_recall_com,cnn_f1_com=cnn_metri(model_cnn_com,pre_x_re_wst,pre_y_wst)\n",
    "print('cnn_url:')\n",
    "cnn_tnr_url,cnn_recall_url,cnn_f1_url=cnn_metri(model_cnn_url,pre_url_x_re_wst,pre_y_wst)\n",
    "print('cnn_html:')\n",
    "cnn_tnr_html,cnn_recall_html,cnn_f1_html=cnn_metri(model_cnn_html,pre_html_x_re_wst,pre_y_wst)\n"
   ]
  },
  {
   "cell_type": "markdown",
   "id": "b3ac89d8",
   "metadata": {},
   "source": [
    "# Predict EngPhish"
   ]
  },
  {
   "cell_type": "code",
   "execution_count": 111,
   "id": "bc90cac5",
   "metadata": {},
   "outputs": [
    {
     "data": {
      "text/plain": [
       "0    11019\n",
       "1     4092\n",
       "Name: label, dtype: int64"
      ]
     },
     "execution_count": 111,
     "metadata": {},
     "output_type": "execute_result"
    },
    {
     "name": "stdout",
     "output_type": "stream",
     "text": [
      "data_ch (15111, 59)\n"
     ]
    }
   ],
   "source": [
    "\n",
    "eng_feature='../data/engphish/enphish_end_features_lnu_modify.json' \n",
    "eng_data=load_dataset(eng_feature)\n",
    "eng_data['label'].value_counts()\n",
    "data_eng=eng_data.iloc[:,:60]#include 'label', 'index', \n",
    "data_eng=data_eng.astype(float)\n",
    "data_eng.drop(['REP_SearchEngine'],axis=1,inplace=True)\n",
    "\n",
    "# data_eng.columns\n",
    "print('data_ch',data_eng.shape) \n"
   ]
  },
  {
   "cell_type": "code",
   "execution_count": 102,
   "id": "dd0e00fe",
   "metadata": {},
   "outputs": [
    {
     "name": "stdout",
     "output_type": "stream",
     "text": [
      "rf======\n",
      "recall is 0.90,tnr is 1.00\n",
      "recall is 0.90,tnr is 0.99\n",
      "recall is 0.67,tnr is 0.95\n",
      "lr========\n",
      "recall is 0.89,tnr is 1.00\n",
      "recall is 0.89,tnr is 1.00\n",
      "recall is 0.82,tnr is 0.73\n",
      "cnn=========\n",
      "recall is 0.88, tnr is 0.97\n",
      "recall is 0.89, tnr is 0.99\n",
      "recall is 0.70, tnr is 0.90\n"
     ]
    }
   ],
   "source": [
    "#WstPhish PWD, top cell on the middle column\n",
    "def pre_metri(model,test_x,test_y):\n",
    "    pred=model.predict(test_x)\n",
    "    tnr,tpr,f1_score=get_fpr(test_y,pred)\n",
    "    print('recall is %.2f,tnr is %.2f'%(tpr,tnr))\n",
    "    return tnr,tpr,f1_score\n",
    "    \n",
    "\n",
    "train_en,test_en=train_test_split(data_eng,test_size=0.2,shuffle=True)\n",
    "\n",
    "pre_html_x_en=test_en.iloc[:,27:49]\n",
    "pre_html_y_en=pre_url_y_en=pre_y_en=test_en.iloc[:,57]\n",
    "pre_url_x_en=pd.concat([test_en.iloc[:,0:27],test_en.iloc[:,49:57]],axis=1)\n",
    "pre_x_en=test_en.iloc[:,0:57]\n",
    "\n",
    " \n",
    "pre_x_en=scaler_entire_wst.transform(pre_x_en)\n",
    "pre_url_x_en=scaler_url_wst.transform(pre_url_x_en)\n",
    "pre_html_x_en=scaler_html_wst.transform(pre_html_x_en)\n",
    "# for cnn\n",
    "one_hot_pre_y_en=tf.one_hot(indices=pre_y_en.array,depth=2,on_value=1.0,off_value=0.0)\n",
    "pre_x_re_en=np.asarray(pre_x_en).reshape(pre_x_en.shape[0],pre_x_en.shape[1],1)\n",
    "pre_html_x_re_en=np.asarray(pre_html_x_en).reshape(pre_html_x_en.shape[0],pre_html_x_en.shape[1],1)\n",
    "pre_url_x_re_en=np.asarray(pre_url_x_en).reshape(pre_url_x_en.shape[0],pre_url_x_en.shape[1],1)\n",
    "\n",
    "print('rf======')\n",
    "rf_tnr_com_en,rf_recall_com_en,rf_f1_com=pre_metri(model_rf_com,pre_x_en,pre_y_en)\n",
    "rf_tnr_url_en,rf_recall_url_en,rf_f1_url=pre_metri(model_rf_url,pre_url_x_en,pre_url_y_en)\n",
    "rf_tnr_html_en,rf_recall_html_en,rf_f1_html=pre_metri(model_rf_html,pre_html_x_en,pre_html_y_en)\n",
    "print('lr========')\n",
    "lr_tnr_com_en,lr_recall_com_en,lr_f1_com=pre_metri(model_lr_com,pre_x_en,pre_y_en)\n",
    "lr_tnr_url_en,lr_recall_url_en,lr_f1_url=pre_metri(model_lr_url,pre_url_x_en,pre_url_y_en)\n",
    "lr_tnr_html_en,lr_recall_html_en,lr_f1_html=pre_metri(model_lr_html,pre_html_x_en,pre_html_y_en)\n",
    "print('cnn=========')\n",
    "cnn_tnr_com_en,cnn_recall_com_en,cnn_f1_com=cnn_metri(model_cnn_com,pre_x_re_en,pre_y_en)\n",
    "cnn_tnr_url_en,cnn_recall_url_en,cnn_f1_url=cnn_metri(model_cnn_url,pre_url_x_re_en,pre_y_en)\n",
    "cnn_tnr_html_en,cnn_recall_html_en,cnn_f1_html=cnn_metri(model_cnn_html,pre_html_x_re_en,pre_y_en)\n",
    "\n",
    "    "
   ]
  },
  {
   "cell_type": "markdown",
   "id": "7e1c7075",
   "metadata": {},
   "source": [
    "# Predict ChiPhish"
   ]
  },
  {
   "cell_type": "code",
   "execution_count": 108,
   "id": "a278edd0",
   "metadata": {},
   "outputs": [
    {
     "data": {
      "text/plain": [
       "0    1055\n",
       "1     565\n",
       "Name: label, dtype: int64"
      ]
     },
     "execution_count": 108,
     "metadata": {},
     "output_type": "execute_result"
    },
    {
     "name": "stdout",
     "output_type": "stream",
     "text": [
      "data_ch (1620, 59)\n"
     ]
    }
   ],
   "source": [
    "\n",
    "chi_feature='../data/chiphish/ch_sites_total_features_update.json' \n",
    "chi_data=load_dataset(chi_feature)\n",
    " \n",
    "chi_data['label'].value_counts()\n",
    "data_chi=chi_data.iloc[:,:60]#  \n",
    "data_chi=data_chi.astype(float)\n",
    "data_chi.drop(['REP_SearchEngine'],axis=1,inplace=True)\n",
    " \n",
    "print('data_ch',data_chi.shape) "
   ]
  },
  {
   "cell_type": "code",
   "execution_count": 107,
   "id": "9506fb2f",
   "metadata": {},
   "outputs": [
    {
     "name": "stdout",
     "output_type": "stream",
     "text": [
      "rf======\n",
      "recall is 0.36,tnr is 0.96\n",
      "recall is 0.55,tnr is 0.92\n",
      "recall is 0.28,tnr is 0.81\n",
      "lr=====\n",
      "recall is 0.68,tnr is 0.85\n",
      "recall is 0.67,tnr is 0.79\n",
      "recall is 0.65,tnr is 0.57\n",
      "cnn====\n",
      "recall is 0.54, tnr is 0.89\n",
      "recall is 0.65, tnr is 0.76\n",
      "recall is 0.27, tnr is 0.80\n"
     ]
    }
   ],
   "source": [
    "#WstPhish PWD, top cell on the right column\n",
    "train_ch,test_ch=train_test_split(data_chi,test_size=0.2,shuffle=True)\n",
    "\n",
    "pre_html_x_ch=test_ch.iloc[:,27:49]\n",
    "pre_html_y_ch=pre_url_y_ch=pre_y_ch=test_ch.iloc[:,57]\n",
    "pre_url_x_ch=pd.concat([test_ch.iloc[:,0:27],test_ch.iloc[:,49:57]],axis=1)\n",
    "pre_x_ch=test_ch.iloc[:,0:57]\n",
    "\n",
    "pre_x_ch=scaler_entire_wst.transform(pre_x_ch)\n",
    "pre_url_x_ch=scaler_url_wst.transform(pre_url_x_ch)\n",
    "pre_html_x_ch=scaler_html_wst.transform(pre_html_x_ch)\n",
    "\n",
    "# for cnn\n",
    "one_hot_pre_y_ch=tf.one_hot(indices=pre_y_ch.array,depth=2,on_value=1.0,off_value=0.0)\n",
    "pre_x_re_ch=np.asarray(pre_x_ch).reshape(pre_x_ch.shape[0],pre_x_ch.shape[1],1)\n",
    "pre_html_x_re_ch=np.asarray(pre_html_x_ch).reshape(pre_html_x_ch.shape[0],pre_html_x_ch.shape[1],1)\n",
    "pre_url_x_re_ch=np.asarray(pre_url_x_ch).reshape(pre_url_x_ch.shape[0],pre_url_x_ch.shape[1],1)\n",
    "  \n",
    "\n",
    "print('rf======')     \n",
    "rf_tnr_com_ch,rf_recall_com_ch,rf_f1_com=pre_metri(model_rf_com,pre_x_ch,pre_y_ch)\n",
    "rf_tnr_url_ch,rf_recall_url_ch,rf_f1_url=pre_metri(model_rf_url,pre_url_x_ch,pre_url_y_ch)\n",
    "rf_tnr_html_ch,rf_recall_html_ch,rf_f1_html=pre_metri(model_rf_html,pre_html_x_ch,pre_html_y_ch)\n",
    "\n",
    "print('lr=====')\n",
    "lr_tnr_com_ch,lr_recall_com_ch,lr_f1_com=pre_metri(model_lr_com,pre_x_ch,pre_y_ch)\n",
    "lr_tnr_url_ch,lr_recall_url_ch,lr_f1_url=pre_metri(model_lr_url,pre_url_x_ch,pre_url_y_ch)\n",
    "lr_tnr_html_ch,lr_recall_html_ch,lr_f1_html=pre_metri(model_lr_html,pre_html_x_ch,pre_html_y_ch)\n",
    "\n",
    "print('cnn====')\n",
    "cnn_tnr_com_ch,cnn_recall_com_ch,cnn_f1_com=cnn_metri(model_cnn_com,pre_x_re_ch,pre_y_ch)\n",
    "cnn_tnr_url_ch,cnn_recall_url_ch_ch,cnn_f1_url=cnn_metri(model_cnn_url,pre_url_x_re_ch,pre_y_ch)\n",
    "cnn_tnr_html_ch,cnn_recall_html_ch,cnn_f1_html=cnn_metri(model_cnn_html,pre_html_x_re_ch,pre_y_ch)"
   ]
  }
 ],
 "metadata": {
  "kernelspec": {
   "display_name": "Python 3 (ipykernel)",
   "language": "python",
   "name": "python3"
  },
  "language_info": {
   "codemirror_mode": {
    "name": "ipython",
    "version": 3
   },
   "file_extension": ".py",
   "mimetype": "text/x-python",
   "name": "python",
   "nbconvert_exporter": "python",
   "pygments_lexer": "ipython3",
   "version": "3.9.12"
  }
 },
 "nbformat": 4,
 "nbformat_minor": 5
}
