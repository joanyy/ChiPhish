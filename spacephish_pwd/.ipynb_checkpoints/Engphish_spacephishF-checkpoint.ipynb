{
 "cells": [
  {
   "cell_type": "code",
   "execution_count": 1,
   "id": "04786dd1",
   "metadata": {},
   "outputs": [],
   "source": [
    "\n",
    "import nbimporter\n",
    "import os\n",
    "os.environ[\"CUDA_VISIBLE_DEVICES\"] = \"-1\"\n",
    "from IPython.core.interactiveshell import InteractiveShell\n",
    "InteractiveShell.ast_node_interactivity='all'\n",
    "import tensorflow as tf \n",
    "import json\n",
    "import pandas as pd\n",
    "from sklearn.model_selection import train_test_split\n",
    "from sklearn import preprocessing\n",
    "import joblib\n",
    "import numpy as np\n",
    "from sklearn.linear_model import LogisticRegression\n",
    "from sklearn.ensemble import RandomForestClassifier\n",
    "import time\n",
    "from sklearn.metrics import confusion_matrix\n",
    "from utils import *"
   ]
  },
  {
   "cell_type": "code",
   "execution_count": 85,
   "id": "67da9bcb",
   "metadata": {},
   "outputs": [
    {
     "data": {
      "text/plain": [
       "0    11019\n",
       "1     4092\n",
       "Name: label, dtype: int64"
      ]
     },
     "execution_count": 85,
     "metadata": {},
     "output_type": "execute_result"
    },
    {
     "name": "stdout",
     "output_type": "stream",
     "text": [
      "data_eng (15111, 59)\n"
     ]
    }
   ],
   "source": [
    "\n",
    "eng_feature='../data/engphish/enphish_end_features_lnu_modify.json' \n",
    "eng_data=load_dataset(eng_feature)\n",
    "#ch_data.shape # benign:1057,phish:568\n",
    "eng_data['label'].value_counts()\n",
    "data_eng=eng_data.iloc[:,:60]#include 'label', 'index', \n",
    "data_eng=data_eng.astype(float)\n",
    "data_eng.drop(['REP_SearchEngine'],axis=1,inplace=True)\n",
    " \n",
    "# data_eng.columns\n",
    "print('data_eng',data_eng.shape) \n"
   ]
  },
  {
   "cell_type": "markdown",
   "id": "d6d9fe45",
   "metadata": {},
   "source": [
    "# performance of vanilla PWD of spacephish on EngPhish, refer to Table XV, Table XVI, Table XVII"
   ]
  },
  {
   "cell_type": "code",
   "execution_count": 37,
   "id": "a3c05dd0",
   "metadata": {},
   "outputs": [
    {
     "name": "stdout",
     "output_type": "stream",
     "text": [
      "train_ze shape (12088, 59)\n"
     ]
    },
    {
     "data": {
      "text/plain": [
       "MinMaxScaler()"
      ]
     },
     "execution_count": 37,
     "metadata": {},
     "output_type": "execute_result"
    },
    {
     "data": {
      "text/plain": [
       "MinMaxScaler()"
      ]
     },
     "execution_count": 37,
     "metadata": {},
     "output_type": "execute_result"
    },
    {
     "data": {
      "text/plain": [
       "MinMaxScaler()"
      ]
     },
     "execution_count": 37,
     "metadata": {},
     "output_type": "execute_result"
    },
    {
     "name": "stdout",
     "output_type": "stream",
     "text": [
      "rf========\n",
      "recall is 0.98,tnr is 1.00\n",
      "\n",
      "only_url_rf_test:\n",
      "recall is 0.98,tnr is 1.00\n",
      "\n",
      "only_html_rf_test:\n",
      "recall is 0.89,tnr is 0.97\n",
      "==============lr\n",
      "combine lr whole:\n",
      "recall is 0.98,tnr is 1.00\n",
      "\n",
      "only_url_lr_whole_test:\n",
      "recall is 0.98,tnr is 1.00\n",
      "\n",
      "only_html_lr_whole_test:\n",
      "recall is 0.68,tnr is 0.95\n",
      "cnn======\n",
      "recall is 1.00, tnr is 1.00\n",
      "recall is 0.99, tnr is 1.00\n",
      "recall is 0.90, tnr is 0.99\n"
     ]
    }
   ],
   "source": [
    "\n",
    "#EngPhish PWD, Middle cell on the middle column\n",
    "\n",
    "train_eng,test_eng=train_test_split(data_eng,test_size=0.2,shuffle=True)\n",
    "# print('train_ze shape',train_eng.shape)\n",
    "train_eng_x=train_eng.iloc[:,0:57]\n",
    "train_eng_y=train_eng.iloc[:,57] \n",
    "test_eng_x=test_eng.iloc[:,0:57] \n",
    "test_eng_y=test_eng.iloc[:,57] \n",
    "\n",
    "scaler_entire_eng=preprocessing.MinMaxScaler()\n",
    "scaler_entire_eng.fit(train_eng_x)\n",
    "train_x_eng=scaler_entire_eng.transform(train_eng_x)\n",
    "test_x_eng=scaler_entire_eng.transform(test_eng_x)\n",
    "\n",
    "#use only html features\n",
    "scaler_html_eng=preprocessing.MinMaxScaler()\n",
    "scaler_html_eng.fit(train_eng.iloc[:,27:49])\n",
    "train_html_x_eng=scaler_html_eng.transform(train_eng.iloc[:,27:49])\n",
    "test_html_x_eng=scaler_html_eng.transform(test_eng.iloc[:,27:49])\n",
    "#only url features\n",
    "scaler_url_eng=preprocessing.MinMaxScaler()\n",
    "scaler_url_eng.fit(pd.concat([train_eng.iloc[:,0:27],train_eng.iloc[:,49:57]],axis=1))\n",
    "train_url_x_eng=scaler_url_eng.transform(pd.concat([train_eng.iloc[:,0:27],train_eng.iloc[:,49:57]],axis=1)) \n",
    "test_url_x_eng=scaler_url_eng.transform(pd.concat([test_eng.iloc[:,0:27],test_eng.iloc[:,49:57]],axis=1))\n",
    "test_url_y_eng=test_html_y_eng=test_eng_y\n",
    "train_url_y_eng=train_html_y_eng=train_eng_y\n",
    "\n",
    " \n",
    "pre_html_x_eng=test_eng.iloc[:,27:49]\n",
    "pre_html_y_eng=pre_url_y_eng=pre_y_eng=test_eng.iloc[:,57]\n",
    "pre_url_x_eng=pd.concat([test_eng.iloc[:,0:27],test_eng.iloc[:,49:57]],axis=1)\n",
    "pre_x_eng=test_eng.iloc[:,0:57]\n",
    "\n",
    "pre_x_eng=scaler_entire_eng.transform(pre_x_eng)\n",
    "pre_url_x_eng=scaler_url_eng.transform(pre_url_x_eng)\n",
    "pre_html_x_eng=scaler_html_eng.transform(pre_html_x_eng)\n",
    "\n",
    "# for cnn\n",
    "one_hot_train_y_eng=tf.one_hot(indices=train_eng_y.array,depth=2,on_value=1.0,off_value=0.0)\n",
    "one_hot_pre_y_eng=tf.one_hot(indices=pre_y_eng.array,depth=2,on_value=1.0,off_value=0.0)\n",
    "pre_x_re_eng=np.asarray(pre_x_eng).reshape(pre_x_eng.shape[0],pre_x_eng.shape[1],1)\n",
    "pre_html_x_re_eng=np.asarray(pre_html_x_eng).reshape(pre_html_x_eng.shape[0],pre_html_x_eng.shape[1],1)\n",
    "pre_url_x_re_eng=np.asarray(pre_url_x_eng).reshape(pre_url_x_eng.shape[0],pre_url_x_eng.shape[1],1)\n",
    "\n",
    "train_x_re_eng=np.asarray(train_x_eng).reshape(train_x_eng.shape[0],train_x_eng.shape[1],1)\n",
    "\n",
    "train_html_x_re_eng=np.asarray(train_html_x_eng).reshape(train_html_x_eng.shape[0],train_html_x_eng.shape[1],1)\n",
    "train_url_x_re_eng=np.asarray(train_url_x_eng).reshape(train_url_x_eng.shape[0],train_url_x_eng.shape[1],1)\n",
    "\n",
    "\n",
    "#whole dataset\n",
    "model_rf_eng_com=RandomForestClassifier(criterion='gini', max_depth=45, min_samples_split=3, n_estimators=200,random_state=82)\n",
    "\n",
    "model_rf_eng_url=RandomForestClassifier(criterion='entropy', max_depth=40, min_samples_split=3, n_estimators=50,random_state=76)\n",
    "model_rf_eng_html=RandomForestClassifier(criterion='entropy', max_depth=45, min_samples_split=3, n_estimators=200,random_state=31)\n",
    "\n",
    "\n",
    "print('rf========')\n",
    "model_rf_com,rf_tnr_com,rf_recall_com,rf_time_com,rf_f1_com=full_metri(model_rf_eng_com,train_x_eng,train_eng_y,test_x_eng,test_eng_y)#using normalized data to train, so all the model_rf4_com data must normalized\n",
    "print('')\n",
    "print('only_url_rf_test:')\n",
    "#only url\n",
    "model_rf_url,rf_tnr_url,rf_recall_url,rf_time_url,rf_f1_url=full_metri(model_rf_eng_url,train_url_x_eng,train_url_y_eng,test_url_x_eng,test_url_y_eng)\n",
    "#only html\n",
    "print('')\n",
    "print('only_html_rf_test:')\n",
    "model_rf_html,rf_tnr_html,rf_recall_html,rf_time_html,rf_f1_html=full_metri(model_rf_eng_html,train_html_x_eng,train_html_y_eng,test_html_x_eng,test_html_y_eng)\n",
    "\n",
    "print('==============lr')\n",
    "\n",
    "model_lr_eng_com = LogisticRegression(max_iter=500,penalty='l2',C=100,random_state=18)\n",
    "model_lr_eng_url = LogisticRegression(max_iter=500,penalty='l2',C=100,random_state=14)\n",
    "model_lr_eng_html = LogisticRegression(max_iter=500,penalty='l2',C=10,random_state=18)\n",
    "print('combine lr whole:')\n",
    "model_lr_com,lr_tnr_com,lr_recall_com,lr_time_com,lr_f1_com=full_metri(model_lr_eng_com,train_x_eng,train_eng_y,test_x_eng,test_eng_y)\n",
    "print('')\n",
    "print('only_url_lr_whole_test:')\n",
    "model_lr_url,lr_tnr_url,lr_recall_url,lr_time_url,lr_f1_url=full_metri(model_lr_eng_url,train_url_x_eng,train_url_y_eng,test_url_x_eng,test_url_y_eng)\n",
    "print('')\n",
    "print('only_html_lr_whole_test:')\n",
    "model_lr_html,lr_tnr_html,lr_recall_html,lr_time_html,lr_f1_html=full_metri(model_lr_eng_html,train_html_x_eng,train_html_y_eng,test_html_x_eng,test_html_y_eng)\n",
    "\n",
    "\n",
    "model_cnn_com=tf.keras.models.load_model('../../eng_model_westf/model_cnn_combined_0',compile=False)\n",
    "\n",
    "model_cnn_com.compile(loss = 'categorical_crossentropy',\n",
    "      optimizer = \"adam\",               \n",
    "            metrics = [tf.keras.metrics.CategoricalAccuracy()])\n",
    "\n",
    "model_cnn_url=tf.keras.models.load_model('../../eng_model_westf/model_cnn_url_0',compile=False)\n",
    "model_cnn_url.compile(loss = 'categorical_crossentropy', \n",
    "  optimizer =\"adam\", #\"\",#opt,adam               \n",
    "            metrics = [tf.keras.metrics.CategoricalAccuracy()]) \n",
    "\n",
    "model_cnn_html=tf.keras.models.load_model('../../eng_model_westf/model_cnn_html_0',compile=False)\n",
    "model_cnn_html.compile(loss = 'categorical_crossentropy', \n",
    "  optimizer =\"adam\",               \n",
    "            metrics = [tf.keras.metrics.CategoricalAccuracy()]) \n",
    "\n",
    "print('cnn======')\n",
    "cnn_tnr_com,cnn_recall_com,cnn_f1_com=cnn_metri(model_cnn_com,pre_x_re_eng,pre_y_eng)\n",
    "cnn_tnr_url,cnn_recall_url,cnn_f1_url=cnn_metri(model_cnn_url,pre_url_x_re_eng,pre_y_eng)\n",
    "cnn_tnr_html,cnn_recall_html,cnn_f1_html=cnn_metri(model_cnn_html,pre_html_x_re_eng,pre_y_eng)\n",
    "\n"
   ]
  },
  {
   "cell_type": "markdown",
   "id": "3768d3e5",
   "metadata": {},
   "source": [
    "# Predict WstPhish"
   ]
  },
  {
   "cell_type": "code",
   "execution_count": 86,
   "id": "d4ac0805",
   "metadata": {},
   "outputs": [
    {
     "data": {
      "text/plain": [
       "1    6935\n",
       "0    4269\n",
       "Name: label, dtype: int64"
      ]
     },
     "execution_count": 86,
     "metadata": {},
     "output_type": "execute_result"
    },
    {
     "name": "stdout",
     "output_type": "stream",
     "text": [
      "data_ch (11204, 59)\n"
     ]
    }
   ],
   "source": [
    "\n",
    "\n",
    "wst_feature='../data/wstphish/western_end_features_zenodo_modify.json' \n",
    "wst_data=load_dataset(wst_feature)\n",
    "wst_data['label'].value_counts()\n",
    "data_wst=wst_data.iloc[:,:60]#include 'label', 'index', \n",
    "data_wst=data_wst.astype(float)\n",
    "data_wst.drop(['REP_SearchEngine'],axis=1,inplace=True)\n",
    "\n",
    "print('data_ch',data_wst.shape) "
   ]
  },
  {
   "cell_type": "code",
   "execution_count": 67,
   "id": "51ec4556",
   "metadata": {},
   "outputs": [
    {
     "name": "stdout",
     "output_type": "stream",
     "text": [
      "rf=====\n",
      "recall is 0.98,tnr is 0.72\n",
      "recall is 0.99,tnr is 0.65\n",
      "recall is 0.59,tnr is 0.86\n",
      "lr======\n",
      "recall is 0.99,tnr is 0.71\n",
      "recall is 0.99,tnr is 0.72\n",
      "recall is 0.60,tnr is 0.80\n",
      "cnn====\n",
      "recall is 0.98, tnr is 0.49\n",
      "recall is 0.99, tnr is 0.30\n",
      "recall is 0.58, tnr is 0.83\n"
     ]
    }
   ],
   "source": [
    "# EngPhish PWD, middle cell on the left side\n",
    "\n",
    "train_wst,test_wst=train_test_split(data_wst,test_size=0.2,shuffle=True)\n",
    "\n",
    "pre_html_x_wst=test_wst.iloc[:,27:49]\n",
    "pre_html_y_wst=pre_url_y_wst=pre_y_wst=test_wst.iloc[:,57]\n",
    "pre_url_x_wst=pd.concat([test_wst.iloc[:,0:27],test_wst.iloc[:,49:57]],axis=1)\n",
    "pre_x_wst=test_wst.iloc[:,0:57]\n",
    "\n",
    "\n",
    "pre_x_wst=scaler_entire_eng.transform(pre_x_wst)\n",
    "pre_url_x_wst=scaler_url_eng.transform(pre_url_x_wst)\n",
    "pre_html_x_wst=scaler_html_eng.transform(pre_html_x_wst)\n",
    "\n",
    "# for cnn\n",
    "one_hot_pre_y_wst=tf.one_hot(indices=pre_y_wst.array,depth=2,on_value=1.0,off_value=0.0)\n",
    "pre_x_re_wst=np.asarray(pre_x_wst).reshape(pre_x_wst.shape[0],pre_x_wst.shape[1],1)\n",
    "pre_html_x_re_wst=np.asarray(pre_html_x_wst).reshape(pre_html_x_wst.shape[0],pre_html_x_wst.shape[1],1)\n",
    "pre_url_x_re_wst=np.asarray(pre_url_x_wst).reshape(pre_url_x_wst.shape[0],pre_url_x_wst.shape[1],1)\n",
    "   \n",
    "print('rf=====')    \n",
    "rf_tnr_com_wst,rf_recall_com_wst,rf_f1_com=pre_metri(model_rf_com,pre_x_wst,pre_y_wst)\n",
    "rf_tnr_url_wst,rf_recall_url_wst,rf_f1_url=pre_metri(model_rf_url,pre_url_x_wst,pre_url_y_wst)\n",
    "rf_tnr_html_wst,rf_recall_html_wst,rf_f1_html=pre_metri(model_rf_html,pre_html_x_wst,pre_html_y_wst)\n",
    "\n",
    "print('lr======')\n",
    "lr_tnr_com_wst,lr_recall_com_wst,lr_f1_com=pre_metri(model_lr_com,pre_x_wst,pre_y_wst)\n",
    "lr_tnr_url_wst,lr_recall_url_wst,lr_f1_url=pre_metri(model_lr_url,pre_url_x_wst,pre_url_y_wst)\n",
    "lr_tnr_html_wst,lr_recall_html_wst,lr_f1_html=pre_metri(model_lr_html,pre_html_x_wst,pre_html_y_wst)\n",
    "\n",
    "\n",
    "print('cnn====')\n",
    "cnn_tnr_com_wst,cnn_recall_com_wst,cnn_f1_com=cnn_metri(model_cnn_com,pre_x_re_wst,pre_y_wst)\n",
    "cnn_tnr_url_wst,cnn_recall_url_wst,cnn_f1_url=cnn_metri(model_cnn_url,pre_url_x_re_wst,pre_y_wst)\n",
    "cnn_tnr_html_wst,cnn_recall_html_wst,cnn_f1_html=cnn_metri(model_cnn_html,pre_html_x_re_wst,pre_y_wst)\n",
    "    "
   ]
  },
  {
   "cell_type": "markdown",
   "id": "1cf04956",
   "metadata": {},
   "source": [
    "# Predict ChiPhish"
   ]
  },
  {
   "cell_type": "code",
   "execution_count": 69,
   "id": "bceaa58d",
   "metadata": {},
   "outputs": [
    {
     "data": {
      "text/plain": [
       "0    1055\n",
       "1     565\n",
       "Name: label, dtype: int64"
      ]
     },
     "execution_count": 69,
     "metadata": {},
     "output_type": "execute_result"
    },
    {
     "name": "stdout",
     "output_type": "stream",
     "text": [
      "data_ch (1620, 59)\n"
     ]
    }
   ],
   "source": [
    "\n",
    "\n",
    "chi_feature='../data/chiphish/ch_sites_total_features_update.json' \n",
    "chi_data=load_dataset(chi_feature)\n",
    "#ch_data.shape # benign:1057,phish:568\n",
    "chi_data['label'].value_counts()\n",
    "data_chi=chi_data.iloc[:,:60]#include 'label', 'index', \n",
    "data_chi=data_chi.astype(float)\n",
    "data_chi.drop(['REP_SearchEngine'],axis=1,inplace=True)\n",
    "\n",
    "# data_chi.columns\n",
    "print('data_ch',data_chi.shape) "
   ]
  },
  {
   "cell_type": "code",
   "execution_count": 84,
   "id": "bc796bef",
   "metadata": {},
   "outputs": [
    {
     "name": "stdout",
     "output_type": "stream",
     "text": [
      "rf=======\n",
      "recall is 0.71,tnr is 0.54\n",
      "recall is 0.79,tnr is 0.53\n",
      "recall is 0.38,tnr is 0.84\n",
      "lr==========\n",
      "recall is 0.71,tnr is 0.50\n",
      "recall is 0.72,tnr is 0.51\n",
      "recall is 0.48,tnr is 0.74\n",
      "cnn===========\n",
      "recall is 0.81, tnr is 0.51\n",
      "recall is 0.83, tnr is 0.42\n",
      "recall is 0.32, tnr is 0.82\n"
     ]
    }
   ],
   "source": [
    "#EngPhish PWD, middle cell on the right side\n",
    "train_chi,test_chi=train_test_split(data_chi,test_size=0.2,shuffle=True)\n",
    "\n",
    "pre_html_x_chi=test_chi.iloc[:,27:49]\n",
    "pre_html_y_chi=pre_url_y_chi=pre_y_chi=test_chi.iloc[:,57]\n",
    "pre_url_x_chi=pd.concat([test_chi.iloc[:,0:27],test_chi.iloc[:,49:57]],axis=1)\n",
    "pre_x_chi=test_chi.iloc[:,0:57]\n",
    "\n",
    "pre_x_chi=scaler_entire_eng.transform(pre_x_chi)\n",
    "pre_url_x_chi=scaler_url_eng.transform(pre_url_x_chi)\n",
    "pre_html_x_chi=scaler_html_eng.transform(pre_html_x_chi)\n",
    "\n",
    "# for cnn\n",
    "one_hot_pre_y_chi=tf.one_hot(indices=pre_y_chi.array,depth=2,on_value=1.0,off_value=0.0)\n",
    "pre_x_re_chi=np.asarray(pre_x_chi).reshape(pre_x_chi.shape[0],pre_x_chi.shape[1],1)\n",
    "pre_html_x_re_chi=np.asarray(pre_html_x_chi).reshape(pre_html_x_chi.shape[0],pre_html_x_chi.shape[1],1)\n",
    "pre_url_x_re_chi=np.asarray(pre_url_x_chi).reshape(pre_url_x_chi.shape[0],pre_url_x_chi.shape[1],1)\n",
    "\n",
    "\n",
    "print('rf=======')\n",
    "rf_tnr_com_ch,rf_recall_com_ch,rf_f1_com=pre_metri(model_rf_com,pre_x_chi,pre_y_chi)\n",
    "rf_tnr_url_ch,rf_recall_url_ch,rf_f1_url=pre_metri(model_rf_url,pre_url_x_chi,pre_url_y_chi)\n",
    "rf_tnr_html_ch,rf_recall_html_ch,rf_f1_html=pre_metri(model_rf_html,pre_html_x_chi,pre_html_y_chi)\n",
    "\n",
    "print('lr==========')\n",
    "lr_tnr_com_ch,lr_recall_com_ch,lr_f1_com=pre_metri(model_lr_com,pre_x_chi,pre_y_chi)\n",
    "lr_tnr_url_ch,lr_recall_url_ch,lr_f1_url=pre_metri(model_lr_url,pre_url_x_chi,pre_url_y_chi)\n",
    "lr_tnr_html_ch_ch,lr_recall_html_ch,lr_f1_html=pre_metri(model_lr_html,pre_html_x_chi,pre_html_y_chi)\n",
    "\n",
    "print('cnn===========')\n",
    "cnn_tnr_com_ch,cnn_recall_com_ch,cnn_f1_com=cnn_metri(model_cnn_com,pre_x_re_chi,pre_y_chi)\n",
    "cnn_tnr_url_ch,cnn_recall_url_ch,cnn_f1_url=cnn_metri(model_cnn_url,pre_url_x_re_chi,pre_y_chi)\n",
    "cnn_tnr_html_ch,cnn_recall_html_ch,cnn_f1_html=cnn_metri(model_cnn_html,pre_html_x_re_chi,pre_y_chi)\n",
    "\n",
    "    \n",
    "     \n",
    "    \n",
    "    "
   ]
  }
 ],
 "metadata": {
  "kernelspec": {
   "display_name": "Python 3 (ipykernel)",
   "language": "python",
   "name": "python3"
  },
  "language_info": {
   "codemirror_mode": {
    "name": "ipython",
    "version": 3
   },
   "file_extension": ".py",
   "mimetype": "text/x-python",
   "name": "python",
   "nbconvert_exporter": "python",
   "pygments_lexer": "ipython3",
   "version": "3.9.12"
  }
 },
 "nbformat": 4,
 "nbformat_minor": 5
}
