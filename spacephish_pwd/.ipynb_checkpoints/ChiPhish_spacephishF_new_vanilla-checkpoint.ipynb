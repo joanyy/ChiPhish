{
 "cells": [
  {
   "cell_type": "code",
   "execution_count": 2,
   "id": "9e652892",
   "metadata": {},
   "outputs": [],
   "source": [
    "import nbimporter\n",
    "import os\n",
    "os.environ[\"CUDA_VISIBLE_DEVICES\"] = \"-1\"\n",
    "from IPython.core.interactiveshell import InteractiveShell\n",
    "InteractiveShell.ast_node_interactivity='all'\n",
    "import tensorflow as tf \n",
    "import json\n",
    "import pandas as pd\n",
    "from sklearn.model_selection import train_test_split\n",
    "from sklearn import preprocessing\n",
    "import joblib\n",
    "import numpy as np\n",
    "from sklearn.linear_model import LogisticRegression\n",
    "from sklearn.ensemble import RandomForestClassifier\n",
    "import time\n",
    "from sklearn.metrics import confusion_matrix\n",
    "from tensorflow.keras.models import Sequential\n",
    "from tensorflow.keras.layers import Dense,Conv1D,Dropout,MaxPooling1D,Flatten,BatchNormalization\n",
    "from tensorflow.keras.optimizers import Adam\n",
    "import tensorflow as tf\n",
    "from utils import *"
   ]
  },
  {
   "cell_type": "markdown",
   "id": "a45eb41f",
   "metadata": {},
   "source": [
    "# performance of vanilla PWD of spacephish on ChiPhish, refer to Table XV,  XVI and XVII"
   ]
  },
  {
   "cell_type": "code",
   "execution_count": 14,
   "id": "445faa89",
   "metadata": {},
   "outputs": [
    {
     "data": {
      "text/plain": [
       "0    1055\n",
       "1     565\n",
       "Name: label, dtype: int64"
      ]
     },
     "execution_count": 14,
     "metadata": {},
     "output_type": "execute_result"
    },
    {
     "name": "stdout",
     "output_type": "stream",
     "text": [
      "data_ch (1620, 59)\n"
     ]
    }
   ],
   "source": [
    "chi_feature='../data/chiphish/ch_sites_total_features_update.json' \n",
    "chi_data=load_dataset(chi_feature)\n",
    " \n",
    "chi_data['label'].value_counts()\n",
    "data_chi=chi_data.iloc[:,:60]#include 'label', 'index', \n",
    "data_chi=data_chi.astype(float)\n",
    "data_chi.drop(['REP_SearchEngine'],axis=1,inplace=True)\n",
    "\n",
    "print('data_ch',data_chi.shape)   "
   ]
  },
  {
   "cell_type": "code",
   "execution_count": 15,
   "id": "36c1d56c",
   "metadata": {},
   "outputs": [
    {
     "data": {
      "text/plain": [
       "1    6935\n",
       "0    4269\n",
       "Name: label, dtype: int64"
      ]
     },
     "execution_count": 15,
     "metadata": {},
     "output_type": "execute_result"
    }
   ],
   "source": [
    "wst_feature='../data/wstphish/western_end_features_zenodo_modify.json' \n",
    "wst_data=load_dataset(wst_feature)\n",
    "# \n",
    "wst_data['label'].value_counts()\n",
    "data_wst=wst_data.iloc[:,:60]#include 'label', 'index', \n",
    "data_wst=data_wst.astype(float)\n",
    "data_wst.drop(['REP_SearchEngine'],axis=1,inplace=True)"
   ]
  },
  {
   "cell_type": "code",
   "execution_count": 26,
   "id": "632d27c8",
   "metadata": {},
   "outputs": [
    {
     "data": {
      "text/plain": [
       "Index(['URL_length', 'URL_IP', 'URL_redirect', 'URL_shortener',\n",
       "       'URL_subdomains', 'URL_at', 'URL_fakeHTTPS', 'URL_dash', 'URL_dataURI',\n",
       "       'URL_numberofCommonTerms', 'URL_checkNumerical', 'URL_checkPathExtend',\n",
       "       'URL_checkPunycode', 'URL_checkSensitiveWord', 'URL_checkTLDinPath',\n",
       "       'URL_checkTLDinSub', 'URL_totalWordUrl', 'URL_shortestWordUrl',\n",
       "       'URL_shortestWordHost', 'URL_shortestWordPath', 'URL_longestWordUrl',\n",
       "       'URL_longestWordHost', 'URL_longestWordPath', 'URL_averageWordUrl',\n",
       "       'URL_averageWordHost', 'URL_averageWordPath', 'URL_checkStatisticRe',\n",
       "       'HTML_Objects', 'HTML_metaScripts', 'HTML_FrequentDomain',\n",
       "       'HTML_Commonpage', 'HTML_CommonPageRatioinFooter', 'HTML_SFH',\n",
       "       'HTML_popUp', 'HTML_RightClick', 'HTML_DomainwithCopyright',\n",
       "       'HTML_nullLinksinWeb', 'HTML_nullLinksinFooter', 'HTML_BrokenLink',\n",
       "       'HTML_LoginForm', 'HTML_HiddenInfo_div', 'HTML_HiddenInfo_button',\n",
       "       'HTML_HiddenInfo_input', 'HTML_TitleUrlBrand', 'HTML_IFrame',\n",
       "       'HTML_favicon', 'HTML_statusBarMod', 'HTML_css', 'HTML_anchors',\n",
       "       'REP_checkGI', 'REP_pageRank', 'REP_DNS', 'REP_registrationLen',\n",
       "       'REP_Age', 'REP_abnormal', 'REP_ports', 'REP_SSL', 'label', 'index'],\n",
       "      dtype='object')"
      ]
     },
     "execution_count": 26,
     "metadata": {},
     "output_type": "execute_result"
    }
   ],
   "source": [
    "data_wst.columns"
   ]
  },
  {
   "cell_type": "code",
   "execution_count": 16,
   "id": "68298bbf",
   "metadata": {},
   "outputs": [
    {
     "data": {
      "text/plain": [
       "0    11019\n",
       "1     4092\n",
       "Name: label, dtype: int64"
      ]
     },
     "execution_count": 16,
     "metadata": {},
     "output_type": "execute_result"
    },
    {
     "name": "stdout",
     "output_type": "stream",
     "text": [
      "data_eng (15111, 59)\n"
     ]
    }
   ],
   "source": [
    "eng_feature='../data/engphish/enphish_end_features_lnu_modify.json' \n",
    "eng_data=load_dataset(eng_feature)\n",
    "#ch_data.shape # benign:1057,phish:568\n",
    "eng_data['label'].value_counts()\n",
    "data_eng=eng_data.iloc[:,:60]#include 'label', 'index', \n",
    "data_eng=data_eng.astype(float)\n",
    "data_eng.drop(['REP_SearchEngine'],axis=1,inplace=True)\n",
    " \n",
    "# data_eng.columns\n",
    "print('data_eng',data_eng.shape) "
   ]
  },
  {
   "cell_type": "code",
   "execution_count": 4,
   "id": "fee2287b",
   "metadata": {
    "collapsed": true
   },
   "outputs": [
    {
     "data": {
      "text/plain": [
       "Index(['URL_length', 'URL_IP', 'URL_redirect', 'URL_shortener',\n",
       "       'URL_subdomains', 'URL_at', 'URL_fakeHTTPS', 'URL_dash', 'URL_dataURI',\n",
       "       'URL_numberofCommonTerms', 'URL_checkNumerical', 'URL_checkPathExtend',\n",
       "       'URL_checkPunycode', 'URL_checkSensitiveWord', 'URL_checkTLDinPath',\n",
       "       'URL_checkTLDinSub', 'URL_totalWordUrl', 'URL_shortestWordUrl',\n",
       "       'URL_shortestWordHost', 'URL_shortestWordPath', 'URL_longestWordUrl',\n",
       "       'URL_longestWordHost', 'URL_longestWordPath', 'URL_averageWordUrl',\n",
       "       'URL_averageWordHost', 'URL_averageWordPath', 'URL_checkStatisticRe',\n",
       "       'HTML_Objects', 'HTML_metaScripts', 'HTML_FrequentDomain',\n",
       "       'HTML_Commonpage', 'HTML_CommonPageRatioinFooter', 'HTML_SFH',\n",
       "       'HTML_popUp', 'HTML_RightClick', 'HTML_DomainwithCopyright',\n",
       "       'HTML_nullLinksinWeb', 'HTML_nullLinksinFooter', 'HTML_BrokenLink',\n",
       "       'HTML_LoginForm', 'HTML_HiddenInfo_div', 'HTML_HiddenInfo_button',\n",
       "       'HTML_HiddenInfo_input', 'HTML_TitleUrlBrand', 'HTML_IFrame',\n",
       "       'HTML_favicon', 'HTML_statusBarMod', 'HTML_css', 'HTML_anchors',\n",
       "       'REP_checkGI', 'REP_pageRank', 'REP_DNS', 'REP_registrationLen',\n",
       "       'REP_Age', 'REP_abnormal', 'REP_ports', 'REP_SSL', 'label', 'index'],\n",
       "      dtype='object')"
      ]
     },
     "execution_count": 4,
     "metadata": {},
     "output_type": "execute_result"
    }
   ],
   "source": [
    "data_chi.columns"
   ]
  },
  {
   "cell_type": "code",
   "execution_count": 17,
   "id": "4b3fd4e9",
   "metadata": {},
   "outputs": [],
   "source": [
    "pre_pa='/home/iday/project/phish_1101/my_script/zenodo/'"
   ]
  },
  {
   "cell_type": "code",
   "execution_count": 18,
   "id": "12c6478a",
   "metadata": {},
   "outputs": [],
   "source": [
    "def get_recall_rf(model,test_x,test_y,selector):\n",
    "    se_test_x=selector.transform(test_x)\n",
    "    #print('se_test_x.shape',se_test_x.shape)#25\n",
    "    pre_y=model.predict(se_test_x)\n",
    "    cm=confusion_matrix(test_y,pre_y)\n",
    "    error_sam=[]\n",
    "    '''\n",
    "    for ind, prediction, label in zip (phish_sub_test_x.index, pre_y, test_y): \n",
    "        if prediction!=label:\n",
    "            error_sam.append(ind)\n",
    "            #print(ind, 'has been classified as ', prediction, 'and should be ', label)\n",
    "   # print('misclassified samples are:',error_sam)\n",
    "   ''' \n",
    "    tp=cm[1,1]\n",
    "    fn=cm[1,0]\n",
    "    recall=tp/(tp+fn)\n",
    "    print('tp',tp)\n",
    "    print('fn',fn)\n",
    "    print('recall',recall)\n",
    "    print('cm',cm)\n",
    "    tn=cm[0,0]\n",
    "    fp=cm[0,1]\n",
    "    tnr=tn/tn+fp\n",
    "    print('tnr is',tnr)\n",
    "    return recall,tnr\n",
    "#     except:\n",
    "#         print('test_y',test_y)\n",
    "#         print('pre_y',pre_y)\n",
    "#         if operator.eq(test_y.all(),pre_y.all()):\n",
    "#             return 1,error_sam\n",
    "#         else:\n",
    "#             return 0,error_sam\n",
    "        \n",
    "import operator\n",
    "def get_recall_cnn(model,test_x,test_y):\n",
    "    predict_y=model.predict(test_x)\n",
    "    pre_class=np.argmax(predict_y,axis=1)\n",
    "    cm= confusion_matrix(test_y, pre_class)\n",
    "    '''\n",
    "    error_sam=[]\n",
    "    for ind, prediction, label in zip (phish_sub_test_x.index, pre_class, test_y): \n",
    "        if prediction!=label:\n",
    "            error_sam.append(ind)\n",
    "            #print(ind, 'has been classified as ', prediction, 'and should be ', label)\n",
    "    #print('misclassified samples are:',error_sam)\n",
    "    '''\n",
    "#     try:\n",
    "    tp=cm[1,1]\n",
    "    fn=cm[1,0]\n",
    "    cnn_recall=tp/(tp+fn)\n",
    "    print('tp',tp)\n",
    "    print('fn',fn)\n",
    "    print('cm',cm)\n",
    "    print('cnn_recall',cnn_recall)\n",
    "    tn=cm[0,0]\n",
    "    fp=cm[0,1]\n",
    "    tnr=tn/tn+fp\n",
    "    return cnn_recall,tnr\n",
    "    '''\n",
    "    except:\n",
    "        print('test_y',test_y)\n",
    "        print('pre_class',pre_class)\n",
    "        \n",
    "        if operator.eq(test_y.all(),pre_class.all()):\n",
    "            print('recall',1)\n",
    "            return 1,error_sam\n",
    "        else:\n",
    "            print('recall',0)\n",
    "            return 0,error_sam\n",
    "    '''"
   ]
  },
  {
   "cell_type": "code",
   "execution_count": 25,
   "id": "0df07a04",
   "metadata": {},
   "outputs": [
    {
     "ename": "TypeError",
     "evalue": "object of type 'MinMaxScaler' has no len()",
     "output_type": "error",
     "traceback": [
      "\u001b[0;31m---------------------------------------------------------------------------\u001b[0m",
      "\u001b[0;31mTypeError\u001b[0m                                 Traceback (most recent call last)",
      "Input \u001b[0;32mIn [25]\u001b[0m, in \u001b[0;36m<cell line: 1>\u001b[0;34m()\u001b[0m\n\u001b[0;32m----> 1\u001b[0m \u001b[38;5;28;43mlen\u001b[39;49m\u001b[43m(\u001b[49m\u001b[43mscaler_entire\u001b[49m\u001b[43m)\u001b[49m\n",
      "\u001b[0;31mTypeError\u001b[0m: object of type 'MinMaxScaler' has no len()"
     ]
    }
   ],
   "source": []
  },
  {
   "cell_type": "code",
   "execution_count": 20,
   "id": "d494b61b",
   "metadata": {
    "collapsed": true
   },
   "outputs": [
    {
     "data": {
      "text/plain": [
       "\"                                                                                                   \\n    phish_test_x_ch_re=np.asarray(phish_test_x_ch_nor).reshape(phish_test_x_ch_nor.shape[0],phish_test_x_ch_nor.shape[1],1)\\n    phish_test_html_x_ch_re=np.asarray(phish_test_html_x_ch).reshape(phish_test_html_x_ch.shape[0],phish_test_html_x_ch.shape[1],1)\\n    phish_test_url_x_ch_re=np.asarray(phish_test_url_x_ch).reshape(phish_test_url_x_ch.shape[0],phish_test_url_x_ch.shape[1],1)\\n\\n    scaler_entire_chi=joblib.load('chi_model_westf/scaler_entire_chi.pkl')\\n    #use only html features\\n    scaler_html_chi=joblib.load('chi_model_westf/scaler_html_chi.pkl')\\n    #only url features\\n    scaler_url_chi=joblib.load('chi_model_westf/scaler_url_chi.pkl')\\n    \""
      ]
     },
     "execution_count": 20,
     "metadata": {},
     "output_type": "execute_result"
    },
    {
     "name": "stderr",
     "output_type": "stream",
     "text": [
      "/home/iday/miniconda3/lib/python3.9/site-packages/sklearn/base.py:493: FutureWarning: The feature names should match those that were passed during fit. Starting version 1.2, an error will be raised.\n",
      "Feature names seen at fit time, yet now missing:\n",
      "- REP_SearchEngine\n",
      "\n",
      "  warnings.warn(message, FutureWarning)\n"
     ]
    },
    {
     "ename": "ValueError",
     "evalue": "X has 57 features, but MinMaxScaler is expecting 58 features as input.",
     "output_type": "error",
     "traceback": [
      "\u001b[0;31m---------------------------------------------------------------------------\u001b[0m",
      "\u001b[0;31mValueError\u001b[0m                                Traceback (most recent call last)",
      "Input \u001b[0;32mIn [20]\u001b[0m, in \u001b[0;36m<cell line: 2>\u001b[0;34m()\u001b[0m\n\u001b[1;32m     15\u001b[0m \u001b[38;5;124;03m'''                                                                                                   \u001b[39;00m\n\u001b[1;32m     16\u001b[0m \u001b[38;5;124;03mphish_test_x_ch_re=np.asarray(phish_test_x_ch_nor).reshape(phish_test_x_ch_nor.shape[0],phish_test_x_ch_nor.shape[1],1)\u001b[39;00m\n\u001b[1;32m     17\u001b[0m \u001b[38;5;124;03mphish_test_html_x_ch_re=np.asarray(phish_test_html_x_ch).reshape(phish_test_html_x_ch.shape[0],phish_test_html_x_ch.shape[1],1)\u001b[39;00m\n\u001b[0;32m   (...)\u001b[0m\n\u001b[1;32m     24\u001b[0m \u001b[38;5;124;03mscaler_url_chi=joblib.load('chi_model_westf/scaler_url_chi.pkl')\u001b[39;00m\n\u001b[1;32m     25\u001b[0m \u001b[38;5;124;03m'''\u001b[39;00m \n\u001b[1;32m     26\u001b[0m \u001b[38;5;66;03m# scaler_entire_chi=preprocessing.MinMaxScaler()\u001b[39;00m\n\u001b[1;32m     27\u001b[0m \u001b[38;5;66;03m#scaler_entire.fit(train_chi_x)\u001b[39;00m\n\u001b[0;32m---> 29\u001b[0m train_x_chi\u001b[38;5;241m=\u001b[39mscaler_entire\u001b[38;5;241m.\u001b[39mtransform(train_chi_x)\n\u001b[1;32m     30\u001b[0m test_x_chi\u001b[38;5;241m=\u001b[39mscaler_entire\u001b[38;5;241m.\u001b[39mtransform(test_chi_x)\n\u001b[1;32m     31\u001b[0m \u001b[38;5;66;03m#use only html features\u001b[39;00m\n\u001b[1;32m     32\u001b[0m \u001b[38;5;66;03m# scaler_html_chi=preprocessing.MinMaxScaler()\u001b[39;00m\n\u001b[1;32m     33\u001b[0m \u001b[38;5;66;03m# scaler_html.fit(train_chi.iloc[:,27:49])\u001b[39;00m\n",
      "File \u001b[0;32m~/miniconda3/lib/python3.9/site-packages/sklearn/preprocessing/_data.py:496\u001b[0m, in \u001b[0;36mMinMaxScaler.transform\u001b[0;34m(self, X)\u001b[0m\n\u001b[1;32m    482\u001b[0m \u001b[38;5;124;03m\"\"\"Scale features of X according to feature_range.\u001b[39;00m\n\u001b[1;32m    483\u001b[0m \n\u001b[1;32m    484\u001b[0m \u001b[38;5;124;03mParameters\u001b[39;00m\n\u001b[0;32m   (...)\u001b[0m\n\u001b[1;32m    492\u001b[0m \u001b[38;5;124;03m    Transformed data.\u001b[39;00m\n\u001b[1;32m    493\u001b[0m \u001b[38;5;124;03m\"\"\"\u001b[39;00m\n\u001b[1;32m    494\u001b[0m check_is_fitted(\u001b[38;5;28mself\u001b[39m)\n\u001b[0;32m--> 496\u001b[0m X \u001b[38;5;241m=\u001b[39m \u001b[38;5;28;43mself\u001b[39;49m\u001b[38;5;241;43m.\u001b[39;49m\u001b[43m_validate_data\u001b[49m\u001b[43m(\u001b[49m\n\u001b[1;32m    497\u001b[0m \u001b[43m    \u001b[49m\u001b[43mX\u001b[49m\u001b[43m,\u001b[49m\n\u001b[1;32m    498\u001b[0m \u001b[43m    \u001b[49m\u001b[43mcopy\u001b[49m\u001b[38;5;241;43m=\u001b[39;49m\u001b[38;5;28;43mself\u001b[39;49m\u001b[38;5;241;43m.\u001b[39;49m\u001b[43mcopy\u001b[49m\u001b[43m,\u001b[49m\n\u001b[1;32m    499\u001b[0m \u001b[43m    \u001b[49m\u001b[43mdtype\u001b[49m\u001b[38;5;241;43m=\u001b[39;49m\u001b[43mFLOAT_DTYPES\u001b[49m\u001b[43m,\u001b[49m\n\u001b[1;32m    500\u001b[0m \u001b[43m    \u001b[49m\u001b[43mforce_all_finite\u001b[49m\u001b[38;5;241;43m=\u001b[39;49m\u001b[38;5;124;43m\"\u001b[39;49m\u001b[38;5;124;43mallow-nan\u001b[39;49m\u001b[38;5;124;43m\"\u001b[39;49m\u001b[43m,\u001b[49m\n\u001b[1;32m    501\u001b[0m \u001b[43m    \u001b[49m\u001b[43mreset\u001b[49m\u001b[38;5;241;43m=\u001b[39;49m\u001b[38;5;28;43;01mFalse\u001b[39;49;00m\u001b[43m,\u001b[49m\n\u001b[1;32m    502\u001b[0m \u001b[43m\u001b[49m\u001b[43m)\u001b[49m\n\u001b[1;32m    504\u001b[0m X \u001b[38;5;241m*\u001b[39m\u001b[38;5;241m=\u001b[39m \u001b[38;5;28mself\u001b[39m\u001b[38;5;241m.\u001b[39mscale_\n\u001b[1;32m    505\u001b[0m X \u001b[38;5;241m+\u001b[39m\u001b[38;5;241m=\u001b[39m \u001b[38;5;28mself\u001b[39m\u001b[38;5;241m.\u001b[39mmin_\n",
      "File \u001b[0;32m~/miniconda3/lib/python3.9/site-packages/sklearn/base.py:585\u001b[0m, in \u001b[0;36mBaseEstimator._validate_data\u001b[0;34m(self, X, y, reset, validate_separately, **check_params)\u001b[0m\n\u001b[1;32m    582\u001b[0m     out \u001b[38;5;241m=\u001b[39m X, y\n\u001b[1;32m    584\u001b[0m \u001b[38;5;28;01mif\u001b[39;00m \u001b[38;5;129;01mnot\u001b[39;00m no_val_X \u001b[38;5;129;01mand\u001b[39;00m check_params\u001b[38;5;241m.\u001b[39mget(\u001b[38;5;124m\"\u001b[39m\u001b[38;5;124mensure_2d\u001b[39m\u001b[38;5;124m\"\u001b[39m, \u001b[38;5;28;01mTrue\u001b[39;00m):\n\u001b[0;32m--> 585\u001b[0m     \u001b[38;5;28;43mself\u001b[39;49m\u001b[38;5;241;43m.\u001b[39;49m\u001b[43m_check_n_features\u001b[49m\u001b[43m(\u001b[49m\u001b[43mX\u001b[49m\u001b[43m,\u001b[49m\u001b[43m \u001b[49m\u001b[43mreset\u001b[49m\u001b[38;5;241;43m=\u001b[39;49m\u001b[43mreset\u001b[49m\u001b[43m)\u001b[49m\n\u001b[1;32m    587\u001b[0m \u001b[38;5;28;01mreturn\u001b[39;00m out\n",
      "File \u001b[0;32m~/miniconda3/lib/python3.9/site-packages/sklearn/base.py:400\u001b[0m, in \u001b[0;36mBaseEstimator._check_n_features\u001b[0;34m(self, X, reset)\u001b[0m\n\u001b[1;32m    397\u001b[0m     \u001b[38;5;28;01mreturn\u001b[39;00m\n\u001b[1;32m    399\u001b[0m \u001b[38;5;28;01mif\u001b[39;00m n_features \u001b[38;5;241m!=\u001b[39m \u001b[38;5;28mself\u001b[39m\u001b[38;5;241m.\u001b[39mn_features_in_:\n\u001b[0;32m--> 400\u001b[0m     \u001b[38;5;28;01mraise\u001b[39;00m \u001b[38;5;167;01mValueError\u001b[39;00m(\n\u001b[1;32m    401\u001b[0m         \u001b[38;5;124mf\u001b[39m\u001b[38;5;124m\"\u001b[39m\u001b[38;5;124mX has \u001b[39m\u001b[38;5;132;01m{\u001b[39;00mn_features\u001b[38;5;132;01m}\u001b[39;00m\u001b[38;5;124m features, but \u001b[39m\u001b[38;5;132;01m{\u001b[39;00m\u001b[38;5;28mself\u001b[39m\u001b[38;5;241m.\u001b[39m\u001b[38;5;18m__class__\u001b[39m\u001b[38;5;241m.\u001b[39m\u001b[38;5;18m__name__\u001b[39m\u001b[38;5;132;01m}\u001b[39;00m\u001b[38;5;124m \u001b[39m\u001b[38;5;124m\"\u001b[39m\n\u001b[1;32m    402\u001b[0m         \u001b[38;5;124mf\u001b[39m\u001b[38;5;124m\"\u001b[39m\u001b[38;5;124mis expecting \u001b[39m\u001b[38;5;132;01m{\u001b[39;00m\u001b[38;5;28mself\u001b[39m\u001b[38;5;241m.\u001b[39mn_features_in_\u001b[38;5;132;01m}\u001b[39;00m\u001b[38;5;124m features as input.\u001b[39m\u001b[38;5;124m\"\u001b[39m\n\u001b[1;32m    403\u001b[0m     )\n",
      "\u001b[0;31mValueError\u001b[0m: X has 57 features, but MinMaxScaler is expecting 58 features as input."
     ]
    }
   ],
   "source": [
    "# ChiPhish PWD, bottom cell on the right column\n",
    "for i in range(0,1):\n",
    "    train_chi,test_chi=train_test_split(data_chi,test_size=0.2,shuffle=True)\n",
    "    # print('train_ch shape',train_chi.shape)\n",
    "    train_chi_x=train_chi.iloc[:,0:57]\n",
    "    train_chi_y=train_chi.iloc[:,57] \n",
    "    test_chi_x=test_chi.iloc[:,0:57] \n",
    "    test_chi_y=test_chi.iloc[:,57] \n",
    "    scaler_entire=joblib.load(pre_pa+'adversarial_model_data_save/scaler_ze/scaler_entire'+str(i)+'.pkl')\n",
    "    #use only html features\n",
    "    scaler_html=joblib.load(pre_pa+'adversarial_model_data_save/scaler_ze/scaler_html'+str(i)+'.pkl')\n",
    "    #only url features\n",
    "    scaler_url=joblib.load(pre_pa+'adversarial_model_data_save/scaler_ze/scaler_url'+str(i)+'.pkl')\n",
    "    \n",
    "    '''                                                                                                   \n",
    "    phish_test_x_ch_re=np.asarray(phish_test_x_ch_nor).reshape(phish_test_x_ch_nor.shape[0],phish_test_x_ch_nor.shape[1],1)\n",
    "    phish_test_html_x_ch_re=np.asarray(phish_test_html_x_ch).reshape(phish_test_html_x_ch.shape[0],phish_test_html_x_ch.shape[1],1)\n",
    "    phish_test_url_x_ch_re=np.asarray(phish_test_url_x_ch).reshape(phish_test_url_x_ch.shape[0],phish_test_url_x_ch.shape[1],1)\n",
    "\n",
    "    scaler_entire_chi=joblib.load('chi_model_westf/scaler_entire_chi.pkl')\n",
    "    #use only html features\n",
    "    scaler_html_chi=joblib.load('chi_model_westf/scaler_html_chi.pkl')\n",
    "    #only url features\n",
    "    scaler_url_chi=joblib.load('chi_model_westf/scaler_url_chi.pkl')\n",
    "    ''' \n",
    "    # scaler_entire_chi=preprocessing.MinMaxScaler()\n",
    "    #scaler_entire.fit(train_chi_x)\n",
    "    \n",
    "    train_x_chi=scaler_entire.transform(train_chi_x)\n",
    "    test_x_chi=scaler_entire.transform(test_chi_x)\n",
    "    #use only html features\n",
    "    # scaler_html_chi=preprocessing.MinMaxScaler()\n",
    "    # scaler_html.fit(train_chi.iloc[:,27:49])\n",
    "    train_html_x_chi=scaler_html.transform(train_chi.iloc[:,27:49])\n",
    "    test_html_x_chi=scaler_html.transform(test_chi.iloc[:,27:49])\n",
    "    #only url features\n",
    "    # scaler_url_chi=preprocessing.MinMaxScaler()\n",
    "    #scaler_url.fit(pd.concat([train_chi.iloc[:,0:27],train_chi.iloc[:,49:57]],axis=1))\n",
    "    train_url_x_chi=scaler_url.transform(pd.concat([train_chi.iloc[:,0:27],train_chi.iloc[:,49:57]],axis=1)) \n",
    "    test_url_x_chi=scaler_url.transform(pd.concat([test_chi.iloc[:,0:27],test_chi.iloc[:,49:57]],axis=1))\n",
    "    test_url_y_chi=test_html_y_chi=test_chi_y\n",
    "    train_url_y_chi=train_html_y_chi=train_chi_y\n",
    "    \n",
    "    # for cnn preprocessing\n",
    "    pre_html_x_chi=test_chi.iloc[:,27:49]\n",
    "    pre_html_y_chi=pre_url_y_chi=pre_y_chi=test_chi.iloc[:,57]\n",
    "    pre_url_x_chi=pd.concat([test_chi.iloc[:,0:27],test_chi.iloc[:,49:57]],axis=1)\n",
    "    pre_x_chi=test_chi.iloc[:,0:57]\n",
    "\n",
    "    pre_x_chi=scaler_entire.transform(pre_x_chi)\n",
    "    pre_url_x_chi=scaler_url.transform(pre_url_x_chi)\n",
    "    pre_html_x_chi=scaler_html.transform(pre_html_x_chi)\n",
    "\n",
    "    one_hot_train_y_chi=tf.one_hot(indices=train_chi_y.array,depth=2,on_value=1.0,off_value=0.0)\n",
    "    one_hot_pre_y_chi=tf.one_hot(indices=pre_y_chi.array,depth=2,on_value=1.0,off_value=0.0)\n",
    "    pre_x_re_chi=np.asarray(pre_x_chi).reshape(pre_x_chi.shape[0],pre_x_chi.shape[1],1)\n",
    "    pre_html_x_re_chi=np.asarray(pre_html_x_chi).reshape(pre_html_x_chi.shape[0],pre_html_x_chi.shape[1],1)\n",
    "    pre_url_x_re_chi=np.asarray(pre_url_x_chi).reshape(pre_url_x_chi.shape[0],pre_url_x_chi.shape[1],1)\n",
    "\n",
    "    train_x_re_chi=np.asarray(train_x_chi).reshape(train_x_chi.shape[0],train_x_chi.shape[1],1)\n",
    "\n",
    "    train_html_x_re_chi=np.asarray(train_html_x_chi).reshape(train_html_x_chi.shape[0],train_html_x_chi.shape[1],1)\n",
    "    train_url_x_re_chi=np.asarray(train_url_x_chi).reshape(train_url_x_chi.shape[0],train_url_x_chi.shape[1],1)\n",
    "    #whole dataset\n",
    "\n",
    "    model_rf4_com=joblib.load(pre_pa+'adversarial_model_data_save/save_rf_models_50_zenodo317/model_rf4_com_'+str(i)+'.pkl')\n",
    "    chi2_selector_com=joblib.load(pre_pa+'adversarial_model_data_save/save_rf_models_50_zenodo317/chi2_selector_com'+str(i)+'.pkl')\n",
    "\n",
    "    model_rf4_url=joblib.load(pre_pa+'adversarial_model_data_save/save_rf_models_50_zenodo317/model_rf4_url'+str(i)+'.pkl')\n",
    "    chi2_selector_url=joblib.load(pre_pa+'adversarial_model_data_save/save_rf_models_50_zenodo317/chi2_selector_url'+str(i)+'.pkl')\n",
    "\n",
    "    model_rf4_html=joblib.load(pre_pa+'adversarial_model_data_save/save_rf_models_50_zenodo317/model_rf4_html'+str(i)+'.pkl')\n",
    "    chi2_selector_html=joblib.load(pre_pa+'adversarial_model_data_save/save_rf_models_50_zenodo317/chi2_selector_html'+str(i)+'.pkl')\n",
    "\n",
    "\n",
    "    model_lr_com=joblib.load(pre_pa+'adversarial_model_data_save/save_lr_models_50_zenodo317/model_lr_com_'+str(i)+'.pkl') \n",
    "    rfe_selector_com_lr=joblib.load(pre_pa+'adversarial_model_data_save/save_lr_models_50_zenodo317/rfe_selector_com_lr'+str(i)+'.pkl') \n",
    "\n",
    "    model_lr_url=joblib.load(pre_pa+'adversarial_model_data_save/save_lr_models_50_zenodo317/model_lr_url_'+str(i)+'.pkl')\n",
    "    rfe_selector_url_lr=joblib.load(pre_pa+'adversarial_model_data_save/save_lr_models_50_zenodo317/rfe_selector_url_lr'+str(i)+'.pkl') \n",
    "\n",
    "    model_lr_html=joblib.load(pre_pa+'adversarial_model_data_save/save_lr_models_50_zenodo317/model_lr_html_'+str(i)+'.pkl') \n",
    "    rfe_selector_html_lr=joblib.load(pre_pa+'adversarial_model_data_save/save_lr_models_50_zenodo317/rfe_selector_html_lr'+str(i)+'.pkl')\n",
    "\n",
    "    model_cnn_combined=tf.keras.models.load_model(pre_pa+'adversarial_model_data_save/save_cnn_com_models_50/model_cnn_com'+str(i))\n",
    "    model_cnn_url=tf.keras.models.load_model(pre_pa+'adversarial_model_data_save/save_cnn_url_50again/model_cnn_url'+str(i)) \n",
    "    model_cnn_html=tf.keras.models.load_model(pre_pa+'adversarial_model_data_save/save_cnn_html_models_50/model_cnn_html'+str(i))\n",
    "    \n",
    "    #get the baseline recall of 6 detectors, lr and rf using the same method get base recall\n",
    "    print('=============recall of lr==')\n",
    "    print('lr_com:')\n",
    "    lr_recall_com,lr_tnr_com=get_recall_rf(model_lr_com,train_x_chi,test_chi_y,rfe_selector_com_lr)\n",
    "    print('lr_url:')\n",
    "    lr_recall_url,lr_tnr_url=get_recall_rf(model_lr_url,test_url_x_chi,test_url_y_chi,rfe_selector_url_lr)\n",
    "    print('lr_html:')\n",
    "    lr_recall_html,lr_tnr_html=get_recall_rf(model_lr_html,test_html_x_chi,test_html_y_chi,rfe_selector_html_lr)\n",
    "\n",
    "    print('=============recall_rf==')\n",
    "    print('rf_recall_combined:')\n",
    "    rf_recall_com,rf_error_recall_com=get_recall_rf(model_rf4_com,train_x_chi,test_chi_y,chi2_selector_com)\n",
    "    print('rf_recall-url:')\n",
    "    rf_recall_url,rf_error_recall_url=get_recall_rf(model_rf4_url,test_url_x_chi,test_url_y_chi,chi2_selector_url)\n",
    "    print('rf_recall-html:')\n",
    "    rf_recall_html,rf_error_recall_html=get_recall_rf(model_rf4_html,test_html_x_chi,test_html_y_chi,chi2_selector_html)\n",
    "\n",
    "    print('cnn_recall_com:')    \n",
    "    cnn_recall_com,cnn_error_com=get_recall_cnn(model_cnn_combined,pre_x_re_chi,test_chi_y)\n",
    "    print('cnn_recall_url:')  \n",
    "\n",
    "    cnn_recall_url,cnn_error_url=get_recall_cnn(model_cnn_url,pre_url_x_re_chi,test_chi_y)\n",
    "    print('cnn_recall_html:')  \n",
    "    cnn_recall_html,cnn_error_html=get_recall_cnn(model_cnn_html,pre_html_x_re_chi,test_chi_y)\n",
    " "
   ]
  },
  {
   "cell_type": "code",
   "execution_count": 4,
   "id": "f5c8773a",
   "metadata": {},
   "outputs": [],
   "source": [
    "par='/home/iday/project/phish_1101/my_script/zenodo/'"
   ]
  },
  {
   "cell_type": "code",
   "execution_count": 7,
   "id": "f2f6256c",
   "metadata": {},
   "outputs": [
    {
     "name": "stderr",
     "output_type": "stream",
     "text": [
      "2024-03-10 22:07:59.730526: E tensorflow/stream_executor/cuda/cuda_driver.cc:271] failed call to cuInit: CUDA_ERROR_NO_DEVICE: no CUDA-capable device is detected\n"
     ]
    }
   ],
   "source": [
    "#get pwds\n",
    "for i in range(0,10):\n",
    "    \n",
    "    model_rf4_com=joblib.load(par+'adversarial_model_data_save/save_rf_models_50_zenodo317/model_rf4_com_'+str(i)+'.pkl')\n",
    "    chi2_selector_com=joblib.load(par+'adversarial_model_data_save/save_rf_models_50_zenodo317/chi2_selector_com'+str(i)+'.pkl')\n",
    "\n",
    "    model_rf4_url=joblib.load(par+'adversarial_model_data_save/save_rf_models_50_zenodo317/model_rf4_url'+str(i)+'.pkl')\n",
    "    chi2_selector_url=joblib.load(par+'adversarial_model_data_save/save_rf_models_50_zenodo317/chi2_selector_url'+str(i)+'.pkl')\n",
    "\n",
    "    model_rf4_html=joblib.load(par+'adversarial_model_data_save/save_rf_models_50_zenodo317/model_rf4_html'+str(i)+'.pkl')\n",
    "    chi2_selector_html=joblib.load(par+'adversarial_model_data_save/save_rf_models_50_zenodo317/chi2_selector_html'+str(i)+'.pkl')\n",
    "\n",
    "\n",
    "    model_lr_com=joblib.load(par+'adversarial_model_data_save/save_lr_models_50_zenodo317/model_lr_com_'+str(i)+'.pkl') \n",
    "    rfe_selector_com_lr=joblib.load(par+'adversarial_model_data_save/save_lr_models_50_zenodo317/rfe_selector_com_lr'+str(i)+'.pkl') \n",
    "\n",
    "    model_lr_url=joblib.load(par+'adversarial_model_data_save/save_lr_models_50_zenodo317/model_lr_url_'+str(i)+'.pkl')\n",
    "    rfe_selector_url_lr=joblib.load(par+'adversarial_model_data_save/save_lr_models_50_zenodo317/rfe_selector_url_lr'+str(i)+'.pkl') \n",
    "\n",
    "    model_lr_html=joblib.load(par+'adversarial_model_data_save/save_lr_models_50_zenodo317/model_lr_html_'+str(i)+'.pkl') \n",
    "    rfe_selector_html_lr=joblib.load(par+'adversarial_model_data_save/save_lr_models_50_zenodo317/rfe_selector_html_lr'+str(i)+'.pkl')\n",
    "\n",
    "    model_cnn_combined=tf.keras.models.load_model(par+'adversarial_model_data_save/save_cnn_com_models_50/model_cnn_com'+str(i))\n",
    "    model_cnn_url=tf.keras.models.load_model(par+'adversarial_model_data_save/save_cnn_url_50again/model_cnn_url'+str(i)) \n",
    "    model_cnn_html=tf.keras.models.load_model(par+'adversarial_model_data_save/save_cnn_html_models_50/model_cnn_html'+str(i))\n"
   ]
  },
  {
   "cell_type": "code",
   "execution_count": 8,
   "id": "b2812869",
   "metadata": {},
   "outputs": [
    {
     "data": {
      "text/plain": [
       "RandomForestClassifier(max_depth=30, min_samples_split=5, n_estimators=50)"
      ]
     },
     "execution_count": 8,
     "metadata": {},
     "output_type": "execute_result"
    }
   ],
   "source": [
    "model_rf4_com"
   ]
  },
  {
   "cell_type": "markdown",
   "id": "6c0f5d8b",
   "metadata": {},
   "source": [
    "# Predict WstPhish"
   ]
  },
  {
   "cell_type": "code",
   "execution_count": 108,
   "id": "c67d3520",
   "metadata": {},
   "outputs": [
    {
     "data": {
      "text/plain": [
       "1    6935\n",
       "0    4269\n",
       "Name: label, dtype: int64"
      ]
     },
     "execution_count": 108,
     "metadata": {},
     "output_type": "execute_result"
    },
    {
     "name": "stdout",
     "output_type": "stream",
     "text": [
      "data_ch (11204, 59)\n"
     ]
    }
   ],
   "source": [
    "wst_feature='../data/wstphish/western_end_features_zenodo_modify.json' \n",
    "wst_data=load_dataset(wst_feature)\n",
    "wst_data['label'].value_counts()\n",
    "data_wst=wst_data.iloc[:,:60] \n",
    "data_wst=data_wst.astype(float)\n",
    "data_wst.drop(['REP_SearchEngine'],axis=1,inplace=True)\n",
    "\n",
    "# data_wst.columns\n",
    "print('data_ch',data_wst.shape) "
   ]
  },
  {
   "cell_type": "code",
   "execution_count": 111,
   "id": "3cd13717",
   "metadata": {},
   "outputs": [
    {
     "name": "stdout",
     "output_type": "stream",
     "text": [
      "rf====\n",
      "recall is 0.94, tnr is 0.47\n",
      "recall is 0.95, tnr is 0.41\n",
      "recall is 0.47, tnr is 0.72\n",
      "lr=======\n",
      "recall is 0.94, tnr is 0.51\n",
      "recall is 0.94, tnr is 0.46\n",
      "recall is 0.45, tnr is 0.78\n",
      "cnn=======\n",
      "recall is 0.93, tnr is 0.49\n",
      "recall is 0.91, tnr is 0.50\n",
      "recall is 0.48, tnr is 0.70\n"
     ]
    }
   ],
   "source": [
    "#ChiPhish PWD, bottom cell on left column\n",
    "train_wst,test_wst=train_test_split(data_wst,test_size=0.2,shuffle=True)\n",
    "\n",
    "pre_html_x_wst=test_wst.iloc[:,27:49]\n",
    "pre_html_y_wst=pre_url_y_wst=pre_y_wst=test_wst.iloc[:,57]\n",
    "pre_url_x_wst=pd.concat([test_wst.iloc[:,0:27],test_wst.iloc[:,49:57]],axis=1)\n",
    "pre_x_wst=test_wst.iloc[:,0:57]\n",
    "\n",
    "pre_x_wst=scaler_entire_chi.transform(pre_x_wst)\n",
    "pre_url_x_wst=scaler_url_chi.transform(pre_url_x_wst)\n",
    "pre_html_x_wst=scaler_html_chi.transform(pre_html_x_wst)\n",
    "\n",
    "# for cnn\n",
    "one_hot_pre_y_wst=tf.one_hot(indices=pre_y_wst.array,depth=2,on_value=1.0,off_value=0.0)\n",
    "pre_x_re_wst=np.asarray(pre_x_wst).reshape(pre_x_wst.shape[0],pre_x_wst.shape[1],1)\n",
    "pre_html_x_re_wst=np.asarray(pre_html_x_wst).reshape(pre_html_x_wst.shape[0],pre_html_x_wst.shape[1],1)\n",
    "pre_url_x_re_wst=np.asarray(pre_url_x_wst).reshape(pre_url_x_wst.shape[0],pre_url_x_wst.shape[1],1)\n",
    "\n",
    "print('rf====')\n",
    "rf_tnr_com_wst,rf_recall_com_wst,rf_f1_com=pre_metri(model_rf_com,pre_x_wst,pre_y_wst)\n",
    "rf_tnr_url_wst,rf_recall_url_wst,rf_f1_url=pre_metri(model_rf_url,pre_url_x_wst,pre_url_y_wst)\n",
    "rf_tnr_html_wst,rf_recall_html_wst,rf_f1_html=pre_metri(model_rf_html,pre_html_x_wst,pre_html_y_wst)\n",
    "\n",
    "print('lr=======')\n",
    "lr_tnr_com_wst,lr_recall_com_wst,lr_f1_com=pre_metri(model_lr_com,pre_x_wst,pre_y_wst)\n",
    "lr_tnr_url_wst,lr_recall_url_wst,lr_f1_url=pre_metri(model_lr_url,pre_url_x_wst,pre_url_y_wst)\n",
    "lr_tnr_html_wst,lr_recall_html_wst,lr_f1_html=pre_metri(model_lr_html,pre_html_x_wst,pre_html_y_wst)\n",
    "\n",
    "print('cnn=======')\n",
    "cnn_tnr_com_wst,cnn_recall_com_wst,cnn_f1_com=cnn_metri(model_cnn_com,pre_x_re_wst,pre_y_wst)\n",
    "cnn_tnr_url_wst,cnn_recall_url_wst_wst,cnn_f1_url=cnn_metri(model_cnn_url,pre_url_x_re_wst,pre_y_wst)\n",
    "cnn_tnr_html_wst,cnn_recall_html_wst,cnn_f1_html=cnn_metri(model_cnn_html,pre_html_x_re_wst,pre_y_wst)\n"
   ]
  },
  {
   "cell_type": "markdown",
   "id": "27e4ce0d",
   "metadata": {},
   "source": [
    "# Predict EngPhish"
   ]
  },
  {
   "cell_type": "code",
   "execution_count": 112,
   "id": "286f4339",
   "metadata": {},
   "outputs": [
    {
     "data": {
      "text/plain": [
       "0    11019\n",
       "1     4092\n",
       "Name: label, dtype: int64"
      ]
     },
     "execution_count": 112,
     "metadata": {},
     "output_type": "execute_result"
    },
    {
     "name": "stdout",
     "output_type": "stream",
     "text": [
      "data_ch (15111, 59)\n"
     ]
    }
   ],
   "source": [
    "#ChiPhish PWD，bottom cell of middle columns\n",
    "\n",
    "eng_feature='../data/engphish/enphish_end_features_lnu_modify.json' \n",
    "eng_data=load_dataset(eng_feature)\n",
    "eng_data['label'].value_counts()\n",
    "data_eng=eng_data.iloc[:,:60]#include 'label', 'index', \n",
    "data_eng=data_eng.astype(float)\n",
    "data_eng.drop(['REP_SearchEngine'],axis=1,inplace=True)\n",
    "\n",
    "print('data_ch',data_eng.shape) "
   ]
  },
  {
   "cell_type": "code",
   "execution_count": 113,
   "id": "b4ea5c0d",
   "metadata": {},
   "outputs": [
    {
     "name": "stdout",
     "output_type": "stream",
     "text": [
      "rf=========\n",
      "recall is 0.85, tnr is 0.92\n",
      "recall is 0.87, tnr is 0.87\n",
      "recall is 0.41, tnr is 0.60\n",
      "lr==========\n",
      "recall is 0.84, tnr is 0.86\n",
      "recall is 0.86, tnr is 0.95\n",
      "recall is 0.40, tnr is 0.56\n",
      "cnn=========\n",
      "recall is 0.83, tnr is 0.92\n",
      "recall is 0.83, tnr is 0.90\n",
      "recall is 0.42, tnr is 0.62\n"
     ]
    }
   ],
   "source": [
    "\n",
    "train_en,test_en=train_test_split(data_eng,test_size=0.2,shuffle=True)\n",
    "\n",
    "pre_html_x_en=test_en.iloc[:,27:49]\n",
    "pre_html_y_en=pre_url_y_en=pre_y_en=test_en.iloc[:,57]\n",
    "pre_url_x_en=pd.concat([test_en.iloc[:,0:27],test_en.iloc[:,49:57]],axis=1)\n",
    "pre_x_en=test_en.iloc[:,0:57]\n",
    "\n",
    "pre_x_en=scaler_entire_chi.transform(pre_x_en)\n",
    "pre_url_x_en=scaler_url_chi.transform(pre_url_x_en)\n",
    "pre_html_x_en=scaler_html_chi.transform(pre_html_x_en)\n",
    "\n",
    "# for cnn\n",
    "one_hot_pre_y_en=tf.one_hot(indices=pre_y_en.array,depth=2,on_value=1.0,off_value=0.0)\n",
    "pre_x_re_en=np.asarray(pre_x_en).reshape(pre_x_en.shape[0],pre_x_en.shape[1],1)\n",
    "pre_html_x_re_en=np.asarray(pre_html_x_en).reshape(pre_html_x_en.shape[0],pre_html_x_en.shape[1],1)\n",
    "pre_url_x_re_en=np.asarray(pre_url_x_en).reshape(pre_url_x_en.shape[0],pre_url_x_en.shape[1],1)\n",
    "\n",
    "print('rf=========')\n",
    "rf_tnr_com_en,rf_recall_com_en,rf_f1_com=pre_metri(model_rf_com,pre_x_en,pre_y_en)\n",
    "rf_tnr_url_en,rf_recall_url_en,rf_f1_url=pre_metri(model_rf_url,pre_url_x_en,pre_url_y_en)\n",
    "rf_tnr_html_en,rf_recall_html_en,rf_f1_html=pre_metri(model_rf_html,pre_html_x_en,pre_html_y_en)\n",
    "\n",
    "print('lr==========')\n",
    "lr_tnr_com_en,lr_recall_com_en,lr_f1_com=pre_metri(model_lr_com,pre_x_en,pre_y_en)\n",
    "lr_tnr_url_en,lr_recall_url_en,lr_f1_url=pre_metri(model_lr_url,pre_url_x_en,pre_url_y_en)\n",
    "lr_tnr_html_en,lr_recall_html_en,lr_f1_html=pre_metri(model_lr_html,pre_html_x_en,pre_html_y_en)\n",
    "\n",
    "print('cnn=========')\n",
    "cnn_tnr_com_en,cnn_recall_com_en,cnn_f1_com=cnn_metri(model_cnn_com,pre_x_re_en,pre_y_en)\n",
    "cnn_tnr_url_en,cnn_recall_url_en,cnn_f1_url=cnn_metri(model_cnn_url,pre_url_x_re_en,pre_y_en)\n",
    "cnn_tnr_html_en,cnn_recall_html_en,cnn_f1_html=cnn_metri(model_cnn_html,pre_html_x_re_en,pre_y_en)\n"
   ]
  }
 ],
 "metadata": {
  "kernelspec": {
   "display_name": "Python 3 (ipykernel)",
   "language": "python",
   "name": "python3"
  },
  "language_info": {
   "codemirror_mode": {
    "name": "ipython",
    "version": 3
   },
   "file_extension": ".py",
   "mimetype": "text/x-python",
   "name": "python",
   "nbconvert_exporter": "python",
   "pygments_lexer": "ipython3",
   "version": "3.9.12"
  }
 },
 "nbformat": 4,
 "nbformat_minor": 5
}
