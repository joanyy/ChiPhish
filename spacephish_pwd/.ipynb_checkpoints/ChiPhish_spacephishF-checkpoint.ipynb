{
 "cells": [
  {
   "cell_type": "code",
   "execution_count": 75,
   "id": "9e652892",
   "metadata": {},
   "outputs": [],
   "source": [
    "import nbimporter\n",
    "import os\n",
    "os.environ[\"CUDA_VISIBLE_DEVICES\"] = \"-1\"\n",
    "from IPython.core.interactiveshell import InteractiveShell\n",
    "InteractiveShell.ast_node_interactivity='all'\n",
    "import tensorflow as tf \n",
    "import json\n",
    "import pandas as pd\n",
    "from sklearn.model_selection import train_test_split\n",
    "from sklearn import preprocessing\n",
    "import joblib\n",
    "import numpy as np\n",
    "from sklearn.linear_model import LogisticRegression\n",
    "from sklearn.ensemble import RandomForestClassifier\n",
    "import time\n",
    "from sklearn.metrics import confusion_matrix\n",
    "from tensorflow.keras.models import Sequential\n",
    "from tensorflow.keras.layers import Dense,Conv1D,Dropout,MaxPooling1D,Flatten,BatchNormalization\n",
    "from tensorflow.keras.optimizers import Adam\n",
    "import tensorflow as tf\n",
    "from utils import *"
   ]
  },
  {
   "cell_type": "markdown",
   "id": "a45eb41f",
   "metadata": {},
   "source": [
    "# performance of vanilla PWD of spacephish on ChiPhish, refer to Table XV,  XVI and XVII"
   ]
  },
  {
   "cell_type": "code",
   "execution_count": 9,
   "id": "445faa89",
   "metadata": {},
   "outputs": [
    {
     "data": {
      "text/plain": [
       "0    1055\n",
       "1     565\n",
       "Name: label, dtype: int64"
      ]
     },
     "execution_count": 9,
     "metadata": {},
     "output_type": "execute_result"
    },
    {
     "name": "stdout",
     "output_type": "stream",
     "text": [
      "data_ch (1620, 59)\n"
     ]
    }
   ],
   "source": [
    "chi_feature='../data/chiphish/ch_sites_total_features_update.json' \n",
    "chi_data=load_dataset(chi_feature)\n",
    " \n",
    "chi_data['label'].value_counts()\n",
    "data_chi=chi_data.iloc[:,:60]#include 'label', 'index', \n",
    "data_chi=data_chi.astype(float)\n",
    "data_chi.drop(['REP_SearchEngine'],axis=1,inplace=True)\n",
    "\n",
    "print('data_ch',data_chi.shape)   "
   ]
  },
  {
   "cell_type": "code",
   "execution_count": 118,
   "id": "d494b61b",
   "metadata": {},
   "outputs": [
    {
     "data": {
      "text/plain": [
       "MinMaxScaler()"
      ]
     },
     "execution_count": 118,
     "metadata": {},
     "output_type": "execute_result"
    },
    {
     "data": {
      "text/plain": [
       "MinMaxScaler()"
      ]
     },
     "execution_count": 118,
     "metadata": {},
     "output_type": "execute_result"
    },
    {
     "data": {
      "text/plain": [
       "MinMaxScaler()"
      ]
     },
     "execution_count": 118,
     "metadata": {},
     "output_type": "execute_result"
    },
    {
     "name": "stdout",
     "output_type": "stream",
     "text": [
      "combine_rf_whole:\n",
      "recall is 0.95,tnr is 0.99\n",
      "\n",
      "only_url_rf_test:\n",
      "recall is 0.97,tnr is 0.99\n",
      "\n",
      "only_html_rf_test:\n",
      "recall is 0.55,tnr is 0.86\n",
      "==============lr\n",
      "combine lr whole:\n",
      "recall is 0.93,tnr is 0.97\n",
      "\n",
      "only_url_lr_whole_test:\n",
      "recall is 0.95,tnr is 0.97\n",
      "\n",
      "only_html_lr_whole_test:\n",
      "recall is 0.44,tnr is 0.88\n",
      "cnn=======\n",
      "recall is 0.98, tnr is 1.00\n",
      "recall is 0.95, tnr is 1.00\n",
      "recall is 0.56, tnr is 0.90\n"
     ]
    }
   ],
   "source": [
    "# ChiPhish PWD, bottom cell on the right column\n",
    "\n",
    "train_chi,test_chi=train_test_split(data_chi,test_size=0.2,shuffle=True)\n",
    "# print('train_ch shape',train_chi.shape)\n",
    "train_chi_x=train_chi.iloc[:,0:57]\n",
    "train_chi_y=train_chi.iloc[:,57] \n",
    "test_chi_x=test_chi.iloc[:,0:57] \n",
    "test_chi_y=test_chi.iloc[:,57] \n",
    "\n",
    "scaler_entire_chi=joblib.load('chi_model_westf/scaler_entire_chi.pkl')\n",
    "#use only html features\n",
    "scaler_html_chi=joblib.load('chi_model_westf/scaler_html_chi.pkl')\n",
    "#only url features\n",
    "scaler_url_chi=joblib.load('chi_model_westf/scaler_url_chi.pkl')\n",
    "\n",
    "# scaler_entire_chi=preprocessing.MinMaxScaler()\n",
    "scaler_entire_chi.fit(train_chi_x)\n",
    "train_x_chi=scaler_entire_chi.transform(train_chi_x)\n",
    "test_x_chi=scaler_entire_chi.transform(test_chi_x)\n",
    "\n",
    "#use only html features\n",
    "# scaler_html_chi=preprocessing.MinMaxScaler()\n",
    "scaler_html_chi.fit(train_chi.iloc[:,27:49])\n",
    "train_html_x_chi=scaler_html_chi.transform(train_chi.iloc[:,27:49])\n",
    "test_html_x_chi=scaler_html_chi.transform(test_chi.iloc[:,27:49])\n",
    "#only url features\n",
    "# scaler_url_chi=preprocessing.MinMaxScaler()\n",
    "scaler_url_chi.fit(pd.concat([train_chi.iloc[:,0:27],train_chi.iloc[:,49:57]],axis=1))\n",
    "train_url_x_chi=scaler_url_chi.transform(pd.concat([train_chi.iloc[:,0:27],train_chi.iloc[:,49:57]],axis=1)) \n",
    "test_url_x_chi=scaler_url_chi.transform(pd.concat([test_chi.iloc[:,0:27],test_chi.iloc[:,49:57]],axis=1))\n",
    "test_url_y_chi=test_html_y_chi=test_chi_y\n",
    "train_url_y_chi=train_html_y_chi=train_chi_y\n",
    " \n",
    "pre_html_x_chi=test_chi.iloc[:,27:49]\n",
    "pre_html_y_chi=pre_url_y_chi=pre_y_chi=test_chi.iloc[:,57]\n",
    "pre_url_x_chi=pd.concat([test_chi.iloc[:,0:27],test_chi.iloc[:,49:57]],axis=1)\n",
    "pre_x_chi=test_chi.iloc[:,0:57]\n",
    "\n",
    "pre_x_chi=scaler_entire_chi.transform(pre_x_chi)\n",
    "pre_url_x_chi=scaler_url_chi.transform(pre_url_x_chi)\n",
    "pre_html_x_chi=scaler_html_chi.transform(pre_html_x_chi)\n",
    "\n",
    "# for cnn\n",
    "one_hot_train_y_chi=tf.one_hot(indices=train_chi_y.array,depth=2,on_value=1.0,off_value=0.0)\n",
    "one_hot_pre_y_chi=tf.one_hot(indices=pre_y_chi.array,depth=2,on_value=1.0,off_value=0.0)\n",
    "pre_x_re_chi=np.asarray(pre_x_chi).reshape(pre_x_chi.shape[0],pre_x_chi.shape[1],1)\n",
    "pre_html_x_re_chi=np.asarray(pre_html_x_chi).reshape(pre_html_x_chi.shape[0],pre_html_x_chi.shape[1],1)\n",
    "pre_url_x_re_chi=np.asarray(pre_url_x_chi).reshape(pre_url_x_chi.shape[0],pre_url_x_chi.shape[1],1)\n",
    "\n",
    "train_x_re_chi=np.asarray(train_x_chi).reshape(train_x_chi.shape[0],train_x_chi.shape[1],1)\n",
    "\n",
    "train_html_x_re_chi=np.asarray(train_html_x_chi).reshape(train_html_x_chi.shape[0],train_html_x_chi.shape[1],1)\n",
    "train_url_x_re_chi=np.asarray(train_url_x_chi).reshape(train_url_x_chi.shape[0],train_url_x_chi.shape[1],1)\n",
    "\n",
    "\n",
    "#whole dataset\n",
    "\n",
    "model_rf_chi_com=RandomForestClassifier(criterion='entropy', max_depth=15, min_samples_split=3, n_estimators=100,random_state=88)\n",
    "model_rf_chi_url=RandomForestClassifier(criterion='gini', max_depth=35, min_samples_split=5, n_estimators=100,random_state=92)\n",
    "model_rf_chi_html=RandomForestClassifier(criterion='gini', max_depth=40, min_samples_split=10, n_estimators=200,random_state=58)\n",
    "\n",
    "\n",
    "print('combine_rf_whole:')\n",
    "model_rf_com,rf_tnr_com,rf_recall_com,rf_time_com,rf_f1_com=full_metri(model_rf_chi_com,train_x_chi,train_chi_y,test_x_chi,test_chi_y)#using normalized data to train, so all the model_rf4_com data must normalized\n",
    "print('')\n",
    "print('only_url_rf_test:')\n",
    "#only url\n",
    "model_rf_url,rf_tnr_url,rf_recall_url,rf_time_url,rf_f1_url=full_metri(model_rf_chi_url,train_url_x_chi,train_url_y_chi,test_url_x_chi,test_url_y_chi)\n",
    "#only html\n",
    "print('')\n",
    "print('only_html_rf_test:')\n",
    "model_rf_html,rf_tnr_html,rf_recall_html,rf_time_html,rf_f1_html=full_metri(model_rf_chi_html,train_html_x_chi,train_html_y_chi,test_html_x_chi,test_html_y_chi)\n",
    "\n",
    "print('==============lr')\n",
    "\n",
    "model_lr_chi_com = LogisticRegression(max_iter=500,penalty='l2',C=1,random_state=93)\n",
    "model_lr_chi_url = LogisticRegression(max_iter=500,penalty='l2',C=1,random_state=15)\n",
    "model_lr_chi_html = LogisticRegression(max_iter=500,penalty='l2',C=100,random_state=23)\n",
    "\n",
    "\n",
    "print('combine lr whole:')\n",
    "model_lr_com,lr_tnr_com,lr_recall_com,lr_time_com,lr_f1_com=full_metri(model_lr_chi_com,train_x_chi,train_chi_y,test_x_chi,test_chi_y)\n",
    "print('')\n",
    "print('only_url_lr_whole_test:')\n",
    "model_lr_url,lr_tnr_url,lr_recall_url,lr_time_url,lr_f1_url=full_metri(model_lr_chi_url,train_url_x_chi,train_url_y_chi,test_url_x_chi,test_url_y_chi)\n",
    "print('')\n",
    "print('only_html_lr_whole_test:')\n",
    "model_lr_html,lr_tnr_html,lr_recall_html,lr_time_html,lr_f1_html=full_metri(model_lr_chi_html,train_html_x_chi,train_html_y_chi,test_html_x_chi,test_html_y_chi)\n",
    "\n",
    "print('cnn=======')\n",
    "model_cnn_com=tf.keras.models.load_model('chi_model_westf/model_cnn_com_5')\n",
    "model_cnn_url=tf.keras.models.load_model('chi_model_westf/model_cnn_url_5')\n",
    "model_cnn_html=tf.keras.models.load_model('chi_model_westf/model_cnn_html_5')\n",
    "\n",
    "cnn_tnr_com,cnn_recall_com,cnn_f1_com=cnn_metri(model_cnn_com,pre_x_re_chi,pre_y_chi)\n",
    "cnn_tnr_url,cnn_recall_url,cnn_f1_url=cnn_metri(model_cnn_url,pre_url_x_re_chi,pre_y_chi)\n",
    "cnn_tnr_html,cnn_recall_html,cnn_f1_html=cnn_metri(model_cnn_html,pre_html_x_re_chi,pre_y_chi)\n",
    "\n",
    "\n",
    "\n",
    " \n",
    "   "
   ]
  },
  {
   "cell_type": "markdown",
   "id": "6c0f5d8b",
   "metadata": {},
   "source": [
    "# Predict WstPhish"
   ]
  },
  {
   "cell_type": "code",
   "execution_count": 108,
   "id": "c67d3520",
   "metadata": {},
   "outputs": [
    {
     "data": {
      "text/plain": [
       "1    6935\n",
       "0    4269\n",
       "Name: label, dtype: int64"
      ]
     },
     "execution_count": 108,
     "metadata": {},
     "output_type": "execute_result"
    },
    {
     "name": "stdout",
     "output_type": "stream",
     "text": [
      "data_ch (11204, 59)\n"
     ]
    }
   ],
   "source": [
    "wst_feature='../data/wstphish/western_end_features_zenodo_modify.json' \n",
    "wst_data=load_dataset(wst_feature)\n",
    "wst_data['label'].value_counts()\n",
    "data_wst=wst_data.iloc[:,:60] \n",
    "data_wst=data_wst.astype(float)\n",
    "data_wst.drop(['REP_SearchEngine'],axis=1,inplace=True)\n",
    "\n",
    "# data_wst.columns\n",
    "print('data_ch',data_wst.shape) "
   ]
  },
  {
   "cell_type": "code",
   "execution_count": 111,
   "id": "3cd13717",
   "metadata": {},
   "outputs": [
    {
     "name": "stdout",
     "output_type": "stream",
     "text": [
      "rf====\n",
      "recall is 0.94, tnr is 0.47\n",
      "recall is 0.95, tnr is 0.41\n",
      "recall is 0.47, tnr is 0.72\n",
      "lr=======\n",
      "recall is 0.94, tnr is 0.51\n",
      "recall is 0.94, tnr is 0.46\n",
      "recall is 0.45, tnr is 0.78\n",
      "cnn=======\n",
      "recall is 0.93, tnr is 0.49\n",
      "recall is 0.91, tnr is 0.50\n",
      "recall is 0.48, tnr is 0.70\n"
     ]
    }
   ],
   "source": [
    "#ChiPhish PWD, bottom cell on left column\n",
    "train_wst,test_wst=train_test_split(data_wst,test_size=0.2,shuffle=True)\n",
    "\n",
    "pre_html_x_wst=test_wst.iloc[:,27:49]\n",
    "pre_html_y_wst=pre_url_y_wst=pre_y_wst=test_wst.iloc[:,57]\n",
    "pre_url_x_wst=pd.concat([test_wst.iloc[:,0:27],test_wst.iloc[:,49:57]],axis=1)\n",
    "pre_x_wst=test_wst.iloc[:,0:57]\n",
    "\n",
    "pre_x_wst=scaler_entire_chi.transform(pre_x_wst)\n",
    "pre_url_x_wst=scaler_url_chi.transform(pre_url_x_wst)\n",
    "pre_html_x_wst=scaler_html_chi.transform(pre_html_x_wst)\n",
    "\n",
    "# for cnn\n",
    "one_hot_pre_y_wst=tf.one_hot(indices=pre_y_wst.array,depth=2,on_value=1.0,off_value=0.0)\n",
    "pre_x_re_wst=np.asarray(pre_x_wst).reshape(pre_x_wst.shape[0],pre_x_wst.shape[1],1)\n",
    "pre_html_x_re_wst=np.asarray(pre_html_x_wst).reshape(pre_html_x_wst.shape[0],pre_html_x_wst.shape[1],1)\n",
    "pre_url_x_re_wst=np.asarray(pre_url_x_wst).reshape(pre_url_x_wst.shape[0],pre_url_x_wst.shape[1],1)\n",
    "\n",
    "print('rf====')\n",
    "rf_tnr_com_wst,rf_recall_com_wst,rf_f1_com=pre_metri(model_rf_com,pre_x_wst,pre_y_wst)\n",
    "rf_tnr_url_wst,rf_recall_url_wst,rf_f1_url=pre_metri(model_rf_url,pre_url_x_wst,pre_url_y_wst)\n",
    "rf_tnr_html_wst,rf_recall_html_wst,rf_f1_html=pre_metri(model_rf_html,pre_html_x_wst,pre_html_y_wst)\n",
    "\n",
    "print('lr=======')\n",
    "lr_tnr_com_wst,lr_recall_com_wst,lr_f1_com=pre_metri(model_lr_com,pre_x_wst,pre_y_wst)\n",
    "lr_tnr_url_wst,lr_recall_url_wst,lr_f1_url=pre_metri(model_lr_url,pre_url_x_wst,pre_url_y_wst)\n",
    "lr_tnr_html_wst,lr_recall_html_wst,lr_f1_html=pre_metri(model_lr_html,pre_html_x_wst,pre_html_y_wst)\n",
    "\n",
    "print('cnn=======')\n",
    "cnn_tnr_com_wst,cnn_recall_com_wst,cnn_f1_com=cnn_metri(model_cnn_com,pre_x_re_wst,pre_y_wst)\n",
    "cnn_tnr_url_wst,cnn_recall_url_wst_wst,cnn_f1_url=cnn_metri(model_cnn_url,pre_url_x_re_wst,pre_y_wst)\n",
    "cnn_tnr_html_wst,cnn_recall_html_wst,cnn_f1_html=cnn_metri(model_cnn_html,pre_html_x_re_wst,pre_y_wst)\n"
   ]
  },
  {
   "cell_type": "markdown",
   "id": "27e4ce0d",
   "metadata": {},
   "source": [
    "# Predict EngPhish"
   ]
  },
  {
   "cell_type": "code",
   "execution_count": 112,
   "id": "286f4339",
   "metadata": {},
   "outputs": [
    {
     "data": {
      "text/plain": [
       "0    11019\n",
       "1     4092\n",
       "Name: label, dtype: int64"
      ]
     },
     "execution_count": 112,
     "metadata": {},
     "output_type": "execute_result"
    },
    {
     "name": "stdout",
     "output_type": "stream",
     "text": [
      "data_ch (15111, 59)\n"
     ]
    }
   ],
   "source": [
    "#ChiPhish PWD，bottom cell of middle columns\n",
    "\n",
    "eng_feature='../data/engphish/enphish_end_features_lnu_modify.json' \n",
    "eng_data=load_dataset(eng_feature)\n",
    "eng_data['label'].value_counts()\n",
    "data_eng=eng_data.iloc[:,:60]#include 'label', 'index', \n",
    "data_eng=data_eng.astype(float)\n",
    "data_eng.drop(['REP_SearchEngine'],axis=1,inplace=True)\n",
    "\n",
    "print('data_ch',data_eng.shape) "
   ]
  },
  {
   "cell_type": "code",
   "execution_count": 113,
   "id": "b4ea5c0d",
   "metadata": {},
   "outputs": [
    {
     "name": "stdout",
     "output_type": "stream",
     "text": [
      "rf=========\n",
      "recall is 0.85, tnr is 0.92\n",
      "recall is 0.87, tnr is 0.87\n",
      "recall is 0.41, tnr is 0.60\n",
      "lr==========\n",
      "recall is 0.84, tnr is 0.86\n",
      "recall is 0.86, tnr is 0.95\n",
      "recall is 0.40, tnr is 0.56\n",
      "cnn=========\n",
      "recall is 0.83, tnr is 0.92\n",
      "recall is 0.83, tnr is 0.90\n",
      "recall is 0.42, tnr is 0.62\n"
     ]
    }
   ],
   "source": [
    "\n",
    "train_en,test_en=train_test_split(data_eng,test_size=0.2,shuffle=True)\n",
    "\n",
    "pre_html_x_en=test_en.iloc[:,27:49]\n",
    "pre_html_y_en=pre_url_y_en=pre_y_en=test_en.iloc[:,57]\n",
    "pre_url_x_en=pd.concat([test_en.iloc[:,0:27],test_en.iloc[:,49:57]],axis=1)\n",
    "pre_x_en=test_en.iloc[:,0:57]\n",
    "\n",
    "pre_x_en=scaler_entire_chi.transform(pre_x_en)\n",
    "pre_url_x_en=scaler_url_chi.transform(pre_url_x_en)\n",
    "pre_html_x_en=scaler_html_chi.transform(pre_html_x_en)\n",
    "\n",
    "# for cnn\n",
    "one_hot_pre_y_en=tf.one_hot(indices=pre_y_en.array,depth=2,on_value=1.0,off_value=0.0)\n",
    "pre_x_re_en=np.asarray(pre_x_en).reshape(pre_x_en.shape[0],pre_x_en.shape[1],1)\n",
    "pre_html_x_re_en=np.asarray(pre_html_x_en).reshape(pre_html_x_en.shape[0],pre_html_x_en.shape[1],1)\n",
    "pre_url_x_re_en=np.asarray(pre_url_x_en).reshape(pre_url_x_en.shape[0],pre_url_x_en.shape[1],1)\n",
    "\n",
    "print('rf=========')\n",
    "rf_tnr_com_en,rf_recall_com_en,rf_f1_com=pre_metri(model_rf_com,pre_x_en,pre_y_en)\n",
    "rf_tnr_url_en,rf_recall_url_en,rf_f1_url=pre_metri(model_rf_url,pre_url_x_en,pre_url_y_en)\n",
    "rf_tnr_html_en,rf_recall_html_en,rf_f1_html=pre_metri(model_rf_html,pre_html_x_en,pre_html_y_en)\n",
    "\n",
    "print('lr==========')\n",
    "lr_tnr_com_en,lr_recall_com_en,lr_f1_com=pre_metri(model_lr_com,pre_x_en,pre_y_en)\n",
    "lr_tnr_url_en,lr_recall_url_en,lr_f1_url=pre_metri(model_lr_url,pre_url_x_en,pre_url_y_en)\n",
    "lr_tnr_html_en,lr_recall_html_en,lr_f1_html=pre_metri(model_lr_html,pre_html_x_en,pre_html_y_en)\n",
    "\n",
    "print('cnn=========')\n",
    "cnn_tnr_com_en,cnn_recall_com_en,cnn_f1_com=cnn_metri(model_cnn_com,pre_x_re_en,pre_y_en)\n",
    "cnn_tnr_url_en,cnn_recall_url_en,cnn_f1_url=cnn_metri(model_cnn_url,pre_url_x_re_en,pre_y_en)\n",
    "cnn_tnr_html_en,cnn_recall_html_en,cnn_f1_html=cnn_metri(model_cnn_html,pre_html_x_re_en,pre_y_en)\n"
   ]
  }
 ],
 "metadata": {
  "kernelspec": {
   "display_name": "Python 3 (ipykernel)",
   "language": "python",
   "name": "python3"
  },
  "language_info": {
   "codemirror_mode": {
    "name": "ipython",
    "version": 3
   },
   "file_extension": ".py",
   "mimetype": "text/x-python",
   "name": "python",
   "nbconvert_exporter": "python",
   "pygments_lexer": "ipython3",
   "version": "3.9.12"
  }
 },
 "nbformat": 4,
 "nbformat_minor": 5
}
