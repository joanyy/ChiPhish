{
 "cells": [
  {
   "cell_type": "code",
   "execution_count": 17,
   "id": "04786dd1",
   "metadata": {},
   "outputs": [],
   "source": [
    "from IPython.core.interactiveshell import InteractiveShell\n",
    "InteractiveShell.ast_node_interactivity='all'\n",
    "from sklearn import preprocessing\n",
    " \n",
    "import jsonx\n",
    "import pandas as pd\n",
    "from sklearn.model_selection import train_test_split \n",
    "from sklearn.ensemble import RandomForestClassifier \n",
    "from sklearn.metrics import classification_report,confusion_matrix "
   ]
  },
  {
   "cell_type": "code",
   "execution_count": 3,
   "id": "a14e8527",
   "metadata": {},
   "outputs": [],
   "source": [
    "def load_dataset(json_file):\n",
    "    json_f=open(json_file).read() \n",
    "    json_info=json.loads(json_f)\n",
    "    json_data=pd.json_normalize(json_info) # already normalization\n",
    "    #print('json_data shape',json_data.shape)\n",
    "    #print('json_Data columns',json_data.columns)\n",
    "    return json_data\n",
    " \n",
    "def get_fpr(y,y_pred):   \n",
    "    cm = confusion_matrix(y, y_pred)\n",
    "    tn=cm[0, 0]\n",
    "    fp=cm[0, 1]\n",
    "    fn=cm[1, 0]\n",
    "    tp=cm[1, 1]\n",
    "    tpr=tp/(tp+fn)\n",
    "    tnr=tn/(tn+fp)\n",
    "    f1_score=2*(((tp/(tp+fp))*(tp/(tp+fn)))/((tp/(tp+fp))+(tp/(tp+fn))))\n",
    "    #tnr=format(tnr,'.4f')\n",
    "    #tpr=format(tpr,'.2f')\n",
    "    return tnr,tpr,f1_score"
   ]
  },
  {
   "cell_type": "markdown",
   "id": "d60cc688",
   "metadata": {},
   "source": [
    "# combine the features to train models, recall performance"
   ]
  },
  {
   "cell_type": "code",
   "execution_count": 8,
   "id": "a23aa193",
   "metadata": {},
   "outputs": [
    {
     "name": "stdout",
     "output_type": "stream",
     "text": [
      "en_data is (15111, 69)\n",
      "wst_data is (11204, 69)\n",
      "chi_data is (1620, 69)\n"
     ]
    }
   ],
   "source": [
    "#english data\n",
    " \n",
    "en_feature=\"../data/engphish/chspec_combine_enphish_full.json\" #15111\n",
    "wst_feature=\"../data/wstphish/chspec_combine_western_full.json\"#11204\n",
    "chi_feature=\"../data/chiphish/chspec_combine_chphish_full.json\"#1620\n",
    "\n",
    "en_data=load_dataset(en_feature)\n",
    "print('en_data is',en_data.shape)\n",
    "#en_data['label'].value_counts()\n",
    "wst_data=load_dataset(wst_feature)\n",
    "print('wst_data is',wst_data.shape)\n",
    "chi_data=load_dataset(chi_feature)\n",
    "print('chi_data is',chi_data.shape)\n"
   ]
  },
  {
   "cell_type": "code",
   "execution_count": 9,
   "id": "28697c36",
   "metadata": {},
   "outputs": [
    {
     "name": "stdout",
     "output_type": "stream",
     "text": [
      "english dataset is\n",
      "chi dataset is\n",
      "wst dataset is\n"
     ]
    }
   ],
   "source": [
    "\n",
    "data_en=en_data.iloc[:,:66]\n",
    "data_en=data_en.astype(float)\n",
    "print('english dataset is')\n",
    "#data_en.columns\n",
    "#print('the first data of data_en',data_en.iloc[0])\n",
    "\n",
    "print('chi dataset is')\n",
    "data_chi=chi_data.iloc[:,:66]\n",
    "data_chi=data_chi.astype(float)\n",
    "#data_chi.columns\n",
    "#print('the first data of data_chi',data_chi.iloc[0])\n",
    "\n",
    "data_wst=wst_data.iloc[:,:66]\n",
    "data_wst=data_wst.astype(float)\n",
    "print('wst dataset is')\n",
    "#data_wst.columns\n",
    "#print('the first data of data_wst',data_wst.iloc[0])"
   ]
  },
  {
   "cell_type": "code",
   "execution_count": 12,
   "id": "e28f2526",
   "metadata": {},
   "outputs": [
    {
     "name": "stdout",
     "output_type": "stream",
     "text": [
      "(22347, 66)\n",
      "en chi columns is Index(['URL_length', 'URL_IP', 'URL_redirect', 'URL_shortener',\n",
      "       'URL_subdomains', 'URL_at', 'URL_dash', 'URL_numberofCommonTerms',\n",
      "       'URL_checkNumerical', 'URL_checkPathExtend', 'URL_checkPunycode',\n",
      "       'URL_checkSensitiveWord', 'URL_checkTLDinPath', 'URL_checkTLDinSub',\n",
      "       'URL_totalWordUrl', 'URL_shortestWordUrl', 'URL_shortestWordHost',\n",
      "       'URL_shortestWordPath', 'URL_longestWordUrl', 'URL_longestWordHost',\n",
      "       'URL_longestWordPath', 'URL_averageWordUrl', 'URL_averageWordHost',\n",
      "       'URL_averageWordPath', 'URL_checkStatisticRe', 'REP_SearchEngine',\n",
      "       'REP_checkGI', 'REP_pageRank', 'REP_DNS', 'REP_registrationLen',\n",
      "       'REP_Age', 'REP_abnormal', 'REP_ports', 'REP_SSL', 'url_unicode',\n",
      "       'tld_number', 'icp_applicant', 'icp_domain', 'icp_dregister',\n",
      "       'HTML_Objects', 'HTML_metaScripts', 'HTML_FrequentDomain',\n",
      "       'HTML_Commonpage', 'HTML_CommonPageRatioinFooter', 'HTML_SFH',\n",
      "       'HTML_popUp', 'HTML_RightClick', 'HTML_DomainwithCopyright',\n",
      "       'HTML_nullLinksinWeb', 'HTML_nullLinksinFooter', 'HTML_BrokenLink',\n",
      "       'HTML_LoginForm', 'HTML_HiddenInfo_div', 'HTML_HiddenInfo_button',\n",
      "       'HTML_HiddenInfo_input', 'HTML_TitleUrlBrand', 'HTML_IFrame',\n",
      "       'HTML_favicon', 'HTML_statusBarMod', 'HTML_css', 'HTML_anchors',\n",
      "       'external_item', 'null_item', 'icp_code', 'e_cert', 'label'],\n",
      "      dtype='object')\n"
     ]
    }
   ],
   "source": [
    "train_en,test_en=train_test_split(data_en,test_size=0.2,shuffle=True)\n",
    "train_chi,test_chi=train_test_split(data_chi,test_size=0.2,shuffle=True)\n",
    "train_wst,test_wst=train_test_split(data_wst,test_size=0.2,shuffle=True)\n",
    "# print(type(train_en))\n",
    "# print(train_en.shape)\n",
    "# print('en columns is',train_en.columns)\n",
    "\n",
    "train_en_chi_wst = pd.concat([train_en, train_chi,train_wst])\n",
    "\n",
    "print(train_en_chi_wst.shape)\n",
    "print('en chi columns is',train_en_chi_wst.columns)"
   ]
  },
  {
   "cell_type": "markdown",
   "id": "ffdb1726",
   "metadata": {},
   "source": [
    "# Universal RF-based PWD using Fc, refer to Table VI"
   ]
  },
  {
   "cell_type": "code",
   "execution_count": 19,
   "id": "42c86ad6",
   "metadata": {},
   "outputs": [
    {
     "data": {
      "text/plain": [
       "MinMaxScaler()"
      ]
     },
     "execution_count": 19,
     "metadata": {},
     "output_type": "execute_result"
    },
    {
     "name": "stdout",
     "output_type": "stream",
     "text": [
      "tnr is 1.00, recall is 0.97,f1 is 0.99\n",
      "tnr is 0.99, recall is 0.86,f1 is 0.92\n",
      "tnr is 0.95, recall is 0.99,f1 is 0.98\n"
     ]
    }
   ],
   "source": [
    "# run all the tests 10 times to get the mean results\n",
    "def full_metri(model,train_x,train_y,test_x,test_y):\n",
    "    model.fit(train_x,train_y)\n",
    "    pred=model.predict(test_x)\n",
    "    tnr,tpr,f1_score=get_fpr(test_y,pred)\n",
    "    print('tnr is %.2f, recall is %.2f,f1 is %.2f'%(tnr,tpr,f1_score))\n",
    "    return model,tnr,tpr,f1_score\n",
    "\n",
    "def pre_metri(model,test_x,test_y):\n",
    "    #model.fit(train_x,train_y)\n",
    "    pred=model.predict(test_x)\n",
    "    tnr,tpr,f1_score=get_fpr(test_y,pred)\n",
    "    print('tnr is %.2f, recall is %.2f,f1 is %.2f'%(tnr,tpr,f1_score))\n",
    "    return tnr,tpr,f1_score\n",
    "\n",
    "train_en,test_en=train_test_split(data_en,test_size=0.2,shuffle=True)\n",
    "train_chi,test_chi=train_test_split(data_chi,test_size=0.2,shuffle=True)\n",
    "train_wst,test_wst=train_test_split(data_wst,test_size=0.2,shuffle=True)\n",
    "train_all = pd.concat([train_en, train_chi,train_wst])\n",
    " \n",
    "\n",
    "train_all_x=train_all.iloc[:,0:65]\n",
    "train_all_y=train_all.iloc[:,65] \n",
    "\n",
    "# test sets\n",
    "test_en_x=test_en.iloc[:,0:65] \n",
    "test_en_y=test_en.iloc[:,65] \n",
    "\n",
    "test_chi_x=test_chi.iloc[:,0:65]\n",
    "test_chi_y=test_chi.iloc[:,65]\n",
    "\n",
    "test_wst_x=test_wst.iloc[:,0:65]\n",
    "test_wst_y=test_wst.iloc[:,65]\n",
    "\n",
    "scaler_entire_all=preprocessing.MinMaxScaler()\n",
    "scaler_entire_all.fit(train_all_x)\n",
    "\n",
    "train_x_all=scaler_entire_all.transform(train_all_x)\n",
    "test_x_en=scaler_entire_all.transform(test_en_x)\n",
    "test_x_chi=scaler_entire_all.transform(test_chi_x)\n",
    "test_x_wst=scaler_entire_all.transform(test_wst_x)\n",
    "\n",
    "\n",
    "model_rf_all=RandomForestClassifier(criterion='gini', max_depth=30, min_samples_split=5, n_estimators=200,random_state=8)#9\n",
    "# print('combine_rf_whole:')\n",
    "model_rf_com,rf_tnr_com_en,rf_recall_com_en,rf_f1_com_en=full_metri(model_rf_all,train_x_all,train_all_y,test_x_en,test_en_y)#using normalized data to train, so all the model_rf4_com data must normalized\n",
    "#model_rf_com=joblib.load('./all_model_spec/model_rf_com_full_'+str(i)+'.pkl')\n",
    "# rf_tnr_com_en,rf_tpr_com_en,rf_f1_com_en=pre_metri(model_rf_com,test_x_en,test_en_y)\n",
    "rf_tnr_com_chi,rf_tpr_com_chi,rf_f1_com_chi=pre_metri(model_rf_com,test_x_chi,test_chi_y)\n",
    "rf_tnr_com_wst,rf_tpr_com_wst,rf_f1_com_wst=pre_metri(model_rf_com,test_x_wst,test_wst_y)\n",
    "\n",
    "# if format(rf_tpr_com_chi,2)==0.89 and rf_tnr_com_wst==0.95 and rf_f1_com_chi==0.94\n",
    "    \n",
    "    "
   ]
  }
 ],
 "metadata": {
  "kernelspec": {
   "display_name": "Python 3 (ipykernel)",
   "language": "python",
   "name": "python3"
  },
  "language_info": {
   "codemirror_mode": {
    "name": "ipython",
    "version": 3
   },
   "file_extension": ".py",
   "mimetype": "text/x-python",
   "name": "python",
   "nbconvert_exporter": "python",
   "pygments_lexer": "ipython3",
   "version": "3.9.12"
  }
 },
 "nbformat": 4,
 "nbformat_minor": 5
}
