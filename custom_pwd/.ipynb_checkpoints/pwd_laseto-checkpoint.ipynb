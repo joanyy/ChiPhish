{
 "cells": [
  {
   "cell_type": "code",
   "execution_count": 42,
   "id": "04786dd1",
   "metadata": {},
   "outputs": [],
   "source": [
    "import nbimporter\n",
    "import os\n",
    "os.environ[\"CUDA_VISIBLE_DEVICES\"] = \"-1\"\n",
    "from IPython.core.interactiveshell import InteractiveShell\n",
    "InteractiveShell.ast_node_interactivity='all'\n",
    "import tensorflow as tf \n",
    "import json\n",
    "import pandas as pd\n",
    "from sklearn.model_selection import train_test_split\n",
    "from sklearn import preprocessing\n",
    "import joblib\n",
    "import numpy as np\n",
    "from sklearn.linear_model import LogisticRegression\n",
    "from sklearn.ensemble import RandomForestClassifier\n",
    "import time\n",
    "from sklearn.metrics import confusion_matrix\n",
    "from utils import *\n",
    "from sklearn.tree import DecisionTreeClassifier,plot_tree\n",
    "from sklearn.neighbors import KNeighborsClassifier\n",
    "from sklearn.neural_network import MLPClassifier \n",
    "from sklearn.ensemble import AdaBoostClassifier\n",
    "from sklearn import svm,metrics,preprocessing,tree\n",
    "from sklearn.ensemble import GradientBoostingClassifier\n",
    "from bs4 import BeautifulSoup\n",
    "import cld3"
   ]
  },
  {
   "cell_type": "code",
   "execution_count": 28,
   "id": "a23aa193",
   "metadata": {},
   "outputs": [
    {
     "name": "stdout",
     "output_type": "stream",
     "text": [
      "(11204, 66)\n"
     ]
    }
   ],
   "source": [
    "wst_data=load_dataset('../data/chiphish/chspec_combine_western_full.json') \n",
    "data_wst=wst_data.iloc[:,:66] \n",
    "data_wst=data_wst.astype(float)\n",
    " \n",
    "print(data_wst.shape)\n",
    " "
   ]
  },
  {
   "cell_type": "code",
   "execution_count": 29,
   "id": "81d394c8",
   "metadata": {},
   "outputs": [
    {
     "name": "stdout",
     "output_type": "stream",
     "text": [
      "(15111, 66)\n"
     ]
    }
   ],
   "source": [
    "eng_data=load_dataset('../data/engphish/chspec_combine_enphish_full.json') \n",
    "data_eng=eng_data.iloc[:,:66] \n",
    "data_eng=data_eng.astype(float)\n",
    "print(data_eng.shape)"
   ]
  },
  {
   "cell_type": "code",
   "execution_count": 30,
   "id": "cc369a5e",
   "metadata": {},
   "outputs": [
    {
     "name": "stdout",
     "output_type": "stream",
     "text": [
      "(1620, 66)\n"
     ]
    }
   ],
   "source": [
    "ch_data=load_dataset('../data/wstphish/chspec_combine_chphish_full.json') \n",
    "data_ch=ch_data.iloc[:,:66] \n",
    "data_ch=data_ch.astype(float)\n",
    "print(data_ch.shape)"
   ]
  },
  {
   "cell_type": "markdown",
   "id": "57803d0a",
   "metadata": {},
   "source": [
    "# Custom PWD exploiting LaSeTo predict wstphish testing data (refer to Sec 7.3)  "
   ]
  },
  {
   "cell_type": "code",
   "execution_count": null,
   "id": "b7484fe9",
   "metadata": {},
   "outputs": [],
   "source": [
    "# wst\n",
    "train_ze,test_ze=train_test_split(data_wst,test_size=0.2,shuffle=True)\n",
    "train_ze_x=train_ze.iloc[:,0:65]\n",
    "train_ze_y=train_ze.iloc[:,65] \n",
    "test_ze_x=test_ze.iloc[:,0:65] \n",
    "test_ze_y=test_ze.iloc[:,65] \n",
    "\n",
    "scaler_entire_ze=preprocessing.MinMaxScaler()\n",
    "scaler_entire_ze.fit(train_ze_x)\n",
    "train_x_ze=scaler_entire_ze.transform(train_ze_x)\n",
    "test_x_ze=scaler_entire_ze.transform(test_ze_x)\n",
    "model_rf1_ze=RandomForestClassifier(criterion='gini', max_depth=55, min_samples_split=3, n_estimators=200)\n",
    "model_rf_com_ze=model_rf1_ze.fit(train_x_ze,train_ze_y)\n",
    "\n",
    "#eng\n",
    "train_eng,test_eng=train_test_split(data_eng,test_size=0.2,shuffle=True)\n",
    "train_eng_x=train_eng.iloc[:,0:65]\n",
    "train_eng_y=train_eng.iloc[:,65] \n",
    "test_eng_x=test_eng.iloc[:,0:65] \n",
    "test_eng_y=test_eng.iloc[:,65] \n",
    "\n",
    "scaler_entire_eng=preprocessing.MinMaxScaler()\n",
    "scaler_entire_eng.fit(train_eng_x)\n",
    "train_x_eng=scaler_entire_eng.transform(train_eng_x)\n",
    "test_x_eng=scaler_entire_eng.transform(test_eng_x)\n",
    "\n",
    "print('combine_rf_whole:')\n",
    "rf_start=time.time()\n",
    "model_rf1_eng=RandomForestClassifier(criterion='gini', max_depth=55, min_samples_split=3, n_estimators=200)\n",
    "model_rf_com_eng=model_rf1_eng.fit(train_x_eng,train_eng_y)\n",
    "#chiphish\n",
    "train_ch,test_ch=train_test_split(data_ch,test_size=0.2,shuffle=True)\n",
    "train_ch_x=train_ch.iloc[:,0:65]\n",
    "train_ch_y=train_ch.iloc[:,65] \n",
    "test_ch_x=test_ch.iloc[:,0:65] \n",
    "test_ch_y=test_ch.iloc[:,65] \n",
    "\n",
    "scaler_entire_ch=preprocessing.MinMaxScaler()\n",
    "scaler_entire_ch.fit(train_ch_x)\n",
    "train_x_ch=scaler_entire_ch.transform(train_ch_x)\n",
    "test_x_ch=scaler_entire_ch.transform(test_ch_x)\n",
    "\n",
    "print('combine_rf_whole:')\n",
    "rf_start=time.time()\n",
    "model_rf1_ch=RandomForestClassifier(criterion='gini', max_depth=55, min_samples_split=3, n_estimators=200)\n",
    "model_rf_com_ch=model_rf1_ch.fit(train_x_ch,train_ch_y)\n"
   ]
  },
  {
   "cell_type": "code",
   "execution_count": null,
   "id": "337bbe5e",
   "metadata": {},
   "outputs": [],
   "source": [
    "# for wst testing data\n",
    "tp=tn=fp=fn=0\n",
    "te_ze_inds=test_ze.index \n",
    "\n",
    "for i in range(0,len(te_ze_inds)):\n",
    "        ind=te_ze_inds[i]\n",
    "        wst_info=wst_data.iloc[ind] \n",
    "        subfolder=wst_info['id']\n",
    "        label=wst_info['label']\n",
    "        ht_path=\"wst_dataset_11204/\"+subfolder+\"/page.html\" \n",
    "        html=readHtmlFile(ht_path) \n",
    "        lan=laseto(html) \n",
    "        if 'zh' in lan: \n",
    "            dw=data_wst.iloc[ind][:-1] \n",
    "            data_before=pd.DataFrame(dw.values.reshape(1, -1),columns=train_ch_x.columns)                \n",
    "            test_ch_da=scaler_entire_ch.transform(data_before)\n",
    "            tp_ch,tn_ch,fp_ch,fn_ch=sep_metri(model_rf_com_ch, test_ch_da,label)\n",
    "            tp=tp+tp_ch\n",
    "            tn=tn+tn_ch\n",
    "            fp=fp+fp_ch\n",
    "            fn=fn+fn_ch\n",
    "        elif 'en' in lan: \n",
    "            dw=data_wst.iloc[ind][:-1] \n",
    "            data_before=pd.DataFrame(dw.values.reshape(1, -1),columns=train_eng_x.columns) \n",
    "            test_en_da=scaler_entire_eng.transform(data_before) \n",
    "            tp_eng,tn_eng,fp_eng,fn_eng=sep_metri(model_rf_com_eng,test_en_da,label)\n",
    "            tp=tp+tp_eng\n",
    "            tn=tn+tn_eng\n",
    "            fp=fp+fp_eng\n",
    "            fn=fn+fn_eng\n",
    "        else: \n",
    "            dw=data_wst.iloc[ind][:-1] \n",
    "            data_before=pd.DataFrame(dw.values.reshape(1, -1),columns=train_ze_x.columns)  \n",
    "            test_ze_da=scaler_entire_ze.transform(data_before) \n",
    "            tp_ze,tn_ze,fp_ze,fn_ze=sep_metri(model_rf_com_ze,test_ze_da,label)\n",
    "            tp=tp+tp_ze\n",
    "            tn=tn+tn_ze\n",
    "            fp=fp+fp_ze\n",
    "            fn=fn+fn_ze\n",
    "tpr=tp/(tp+fn)\n",
    "tnr=tn/(tn+fp)\n",
    "f1_score=2*(((tp/(tp+fp))*(tp/(tp+fn)))/((tp/(tp+fp))+(tp/(tp+fn))))\n",
    "print('tpr is %f, tnr is %f, f1_score is %f'%(tpr,tnr,f1_score))\n",
    " \n"
   ]
  }
 ],
 "metadata": {
  "kernelspec": {
   "display_name": "Python 3 (ipykernel)",
   "language": "python",
   "name": "python3"
  },
  "language_info": {
   "codemirror_mode": {
    "name": "ipython",
    "version": 3
   },
   "file_extension": ".py",
   "mimetype": "text/x-python",
   "name": "python",
   "nbconvert_exporter": "python",
   "pygments_lexer": "ipython3",
   "version": "3.9.12"
  }
 },
 "nbformat": 4,
 "nbformat_minor": 5
}
